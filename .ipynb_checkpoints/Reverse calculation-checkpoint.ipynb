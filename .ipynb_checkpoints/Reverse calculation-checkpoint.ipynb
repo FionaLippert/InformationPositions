{
 "cells": [
  {
   "cell_type": "code",
   "execution_count": 15,
   "metadata": {
    "scrolled": true
   },
   "outputs": [
    {
     "name": "stdout",
     "output_type": "stream",
     "text": [
      "No burnin used\n"
     ]
    },
    {
     "name": "stderr",
     "output_type": "stream",
     "text": [
      "/home/casper/miniconda3/lib/python3.7/multiprocessing/pool.py:47: RuntimeWarning: invalid value encountered in double_scalars\n",
      "  return list(itertools.starmap(args[0], args[1]))\n"
     ]
    },
    {
     "data": {
      "image/png": "[encoded data removed]",
      "text/plain": [
       "<Figure size 432x288 with 1 Axes>"
      ]
     },
     "metadata": {
      "needs_background": "light"
     },
     "output_type": "display_data"
    }
   ],
   "source": [
    "from scipy import stats\n",
    "from matplotlib.pyplot import *\n",
    "from numpy import *\n",
    "import fastIsing, scipy\n",
    "import networkx as nx, IO, multiprocessing as mp\n",
    "from tqdm import tqdm_notebook as tqdm\n",
    "import infcy\n",
    "# %matplotlib \n",
    "dataDir = 'Psycho' # relative path careful\n",
    "df    = IO.readCSV('{}/Graph_min1_1.csv'.format(dataDir), header = 0, index_col = 0)\n",
    "h     = IO.readCSV('{}/External_min1_1.csv'.format(dataDir), header = 0, index_col = 0)\n",
    "graph   = nx.from_pandas_adjacency(df) \n",
    "# graph = nx.random_graphs.barabasi_albert_graph(10, 3)\n",
    "# graph = nx.grid_2d_graph(2, 2, periodic = True)\n",
    "# graph  = nx.path_graph(5, nx.DiGraph())\n",
    "# graph.add_edge(0, 0)\n",
    "# graph  = nx.path_graph(5, nx.DiGraph())\n",
    "graph = nx.star_graph(4)\n",
    "# graph = nx.grid_2d_graph(4,4)\n",
    "# graph  = nx.path_graph(5)\n",
    "pulse  = {}\n",
    "nudge  = 0\n",
    "target = 1\n",
    "for node in graph.nodes():\n",
    "    pulse[node] = nudge if node == target else 0\n",
    "nx.set_node_attributes(graph, pulse, 'nudges')\n",
    "temp  = 1\n",
    "model = fastIsing.Ising(graph, temp, False, mode = 'async', verbose = False, magSide = 'neg')\n",
    "\n",
    "temps = linspace(0, 10, 50)\n",
    "temps, mag, sus = model.matchMagnetization(temps =  temps, n = 1000, burninSamples = 100)\n",
    "func = lambda x, a, b, c, d :  a / (1 + exp(b * (x - c))) + d # tanh(-a * x)* b + c\n",
    "a, b = scipy.optimize.curve_fit(func, temps, mag, maxfev = 10000)\n",
    "xx = linspace(0, max(temps))\n",
    "fig, ax = subplots();\n",
    "ax.scatter(temps,  mag)\n",
    "ax.plot(xx, func(xx, *a), 'k--')\n",
    "\n",
    "match = .5 * max(mag)\n",
    "fr  = lambda x, a, b : func(x, *a) - b\n",
    "rr  = scipy.optimize.root(fr, 0, args = (a, match))\n",
    "ax.scatter(rr.x, func(rr.x, *a), c = 'red')\n",
    "\n",
    "\n",
    "model.t = rr.x\n",
    "setp(ax, **dict(xlabel = 'Temperature', ylabel = '<abs(M)>'))\n",
    "show()\n"
   ]
  },
  {
   "cell_type": "code",
   "execution_count": 20,
   "metadata": {},
   "outputs": [
    {
     "name": "stderr",
     "output_type": "stream",
     "text": [
      "\n",
      "\n",
      "  0%|          | 0/100000 [00:00<?, ?it/s]\u001b[A\u001b[A\n",
      "\n",
      "  0%|          | 446/100000 [00:00<00:22, 4455.84it/s]\u001b[A\u001b[A"
     ]
    },
    {
     "name": "stdout",
     "output_type": "stream",
     "text": [
      "Simulation parameters\n",
      " number of samples: 100000\n",
      " step size 1\n",
      " pulse : {}\n"
     ]
    },
    {
     "name": "stderr",
     "output_type": "stream",
     "text": [
      "\n",
      "\n",
      "  1%|          | 912/100000 [00:00<00:21, 4513.47it/s]\u001b[A\u001b[A\n",
      "\n",
      "  1%|▏         | 1368/100000 [00:00<00:21, 4526.16it/s]\u001b[A\u001b[A\n",
      "\n",
      "  2%|▏         | 1814/100000 [00:00<00:21, 4505.73it/s]\u001b[A\u001b[A\n",
      "\n",
      "  2%|▏         | 2280/100000 [00:00<00:21, 4550.78it/s]\u001b[A\u001b[A\n",
      "\n",
      "  3%|▎         | 2741/100000 [00:00<00:21, 4566.98it/s]\u001b[A\u001b[A\n",
      "\n",
      "  3%|▎         | 3199/100000 [00:00<00:21, 4568.45it/s]\u001b[A\u001b[A\n",
      "\n",
      "  4%|▎         | 3653/100000 [00:00<00:21, 4558.29it/s]\u001b[A\u001b[A\n",
      "\n",
      "  4%|▍         | 4092/100000 [00:00<00:21, 4505.95it/s]\u001b[A\u001b[A\n",
      "\n",
      "  5%|▍         | 4562/100000 [00:01<00:20, 4561.05it/s]\u001b[A\u001b[A\n",
      "\n",
      "  5%|▌         | 5006/100000 [00:01<00:21, 4505.18it/s]\u001b[A\u001b[A\n",
      "\n",
      "  5%|▌         | 5461/100000 [00:01<00:20, 4516.90it/s]\u001b[A\u001b[A\n",
      "\n",
      "  6%|▌         | 5923/100000 [00:01<00:20, 4544.95it/s]\u001b[A\u001b[A\n",
      "\n",
      "  6%|▋         | 6374/100000 [00:01<00:20, 4527.07it/s]\u001b[A\u001b[A\n",
      "\n",
      "  7%|▋         | 6824/100000 [00:01<00:22, 4199.89it/s]\u001b[A\u001b[A\n",
      "\n",
      "  7%|▋         | 7259/100000 [00:01<00:21, 4243.46it/s]\u001b[A\u001b[A\n",
      "\n",
      "  8%|▊         | 7710/100000 [00:01<00:21, 4319.28it/s]\u001b[A\u001b[A\n",
      "\n",
      "  8%|▊         | 8154/100000 [00:01<00:21, 4352.88it/s]\u001b[A\u001b[A\n",
      "\n",
      "  9%|▊         | 8596/100000 [00:01<00:20, 4372.59it/s]\u001b[A\u001b[A\n",
      "\n",
      "  9%|▉         | 9035/100000 [00:02<00:20, 4336.23it/s]\u001b[A\u001b[A\n",
      "\n",
      "  9%|▉         | 9470/100000 [00:02<00:21, 4177.87it/s]\u001b[A\u001b[A\n",
      "\n",
      " 10%|▉         | 9890/100000 [00:02<00:22, 4092.34it/s]\u001b[A\u001b[A\n",
      "\n",
      " 10%|█         | 10301/100000 [00:02<00:23, 3896.79it/s]\u001b[A\u001b[A\n",
      "\n",
      " 11%|█         | 10694/100000 [00:02<00:22, 3885.28it/s]\u001b[A\u001b[A\n",
      "\n",
      " 11%|█         | 11136/100000 [00:02<00:22, 4030.20it/s]\u001b[A\u001b[A\n",
      "\n",
      " 12%|█▏        | 11595/100000 [00:02<00:21, 4182.00it/s]\u001b[A\u001b[A\n",
      "\n",
      " 12%|█▏        | 12017/100000 [00:02<00:21, 4150.42it/s]\u001b[A\u001b[A\n",
      "\n",
      " 12%|█▏        | 12435/100000 [00:02<00:21, 4139.87it/s]\u001b[A\u001b[A\n",
      "\n",
      " 13%|█▎        | 12851/100000 [00:02<00:21, 4074.05it/s]\u001b[A\u001b[A\n",
      "\n",
      " 13%|█▎        | 13304/100000 [00:03<00:20, 4199.91it/s]\u001b[A\u001b[A\n",
      "\n",
      " 14%|█▍        | 13774/100000 [00:03<00:19, 4336.87it/s]\u001b[A\u001b[A\n",
      "\n",
      " 14%|█▍        | 14235/100000 [00:03<00:19, 4414.92it/s]\u001b[A\u001b[A\n",
      "\n",
      " 15%|█▍        | 14681/100000 [00:03<00:19, 4426.77it/s]\u001b[A\u001b[A\n",
      "\n",
      " 15%|█▌        | 15126/100000 [00:03<00:19, 4290.67it/s]\u001b[A\u001b[A\n",
      "\n",
      " 16%|█▌        | 15601/100000 [00:03<00:19, 4417.60it/s]\u001b[A\u001b[A\n",
      "\n",
      " 16%|█▌        | 16063/100000 [00:03<00:18, 4475.63it/s]\u001b[A\u001b[A\n",
      "\n",
      " 17%|█▋        | 16527/100000 [00:03<00:18, 4521.81it/s]\u001b[A\u001b[A\n",
      "\n",
      " 17%|█▋        | 16988/100000 [00:03<00:18, 4547.09it/s]\u001b[A\u001b[A\n",
      "\n",
      " 17%|█▋        | 17450/100000 [00:03<00:18, 4566.32it/s]\u001b[A\u001b[A\n",
      "\n",
      " 18%|█▊        | 17908/100000 [00:04<00:18, 4339.75it/s]\u001b[A\u001b[A\n",
      "\n",
      " 18%|█▊        | 18345/100000 [00:04<00:19, 4231.13it/s]\u001b[A\u001b[A\n",
      "\n",
      " 19%|█▉        | 18783/100000 [00:04<00:19, 4273.68it/s]\u001b[A\u001b[A\n",
      "\n",
      " 19%|█▉        | 19224/100000 [00:04<00:18, 4312.57it/s]\u001b[A\u001b[A\n",
      "\n",
      " 20%|█▉        | 19684/100000 [00:04<00:18, 4393.55it/s]\u001b[A\u001b[A\n",
      "\n",
      " 20%|██        | 20151/100000 [00:04<00:17, 4472.27it/s]\u001b[A\u001b[A\n",
      "\n",
      " 21%|██        | 20600/100000 [00:04<00:17, 4422.60it/s]\u001b[A\u001b[A\n",
      "\n",
      " 21%|██        | 21054/100000 [00:04<00:17, 4455.11it/s]\u001b[A\u001b[A\n",
      "\n",
      " 22%|██▏       | 21509/100000 [00:04<00:17, 4482.52it/s]\u001b[A\u001b[A\n",
      "\n",
      " 22%|██▏       | 21958/100000 [00:05<00:17, 4442.51it/s]\u001b[A\u001b[A\n",
      "\n",
      " 22%|██▏       | 22403/100000 [00:05<00:18, 4228.38it/s]\u001b[A\u001b[A\n",
      "\n",
      " 23%|██▎       | 22829/100000 [00:05<00:18, 4224.31it/s]\u001b[A\u001b[A\n",
      "\n",
      " 23%|██▎       | 23277/100000 [00:05<00:17, 4296.45it/s]\u001b[A\u001b[A\n",
      "\n",
      " 24%|██▎       | 23713/100000 [00:05<00:17, 4313.93it/s]\u001b[A\u001b[A\n",
      "\n",
      " 24%|██▍       | 24146/100000 [00:05<00:18, 4132.89it/s]\u001b[A\u001b[A\n",
      "\n",
      " 25%|██▍       | 24570/100000 [00:05<00:18, 4162.31it/s]\u001b[A\u001b[A\n",
      "\n",
      " 25%|██▌       | 25002/100000 [00:05<00:17, 4206.83it/s]\u001b[A\u001b[A\n",
      "\n",
      " 25%|██▌       | 25424/100000 [00:05<00:17, 4181.44it/s]\u001b[A\u001b[A\n",
      "\n",
      " 26%|██▌       | 25876/100000 [00:05<00:17, 4275.77it/s]\u001b[A\u001b[A\n",
      "\n",
      " 26%|██▋       | 26340/100000 [00:06<00:16, 4377.82it/s]\u001b[A\u001b[A\n",
      "\n",
      " 27%|██▋       | 26793/100000 [00:06<00:16, 4419.91it/s]\u001b[A\u001b[A\n",
      "\n",
      " 27%|██▋       | 27250/100000 [00:06<00:16, 4463.72it/s]\u001b[A\u001b[A\n",
      "\n",
      " 28%|██▊       | 27708/100000 [00:06<00:16, 4495.49it/s]\u001b[A\u001b[A\n",
      "\n",
      " 28%|██▊       | 28175/100000 [00:06<00:15, 4544.50it/s]\u001b[A\u001b[A\n",
      "\n",
      " 29%|██▊       | 28659/100000 [00:06<00:15, 4627.83it/s]\u001b[A\u001b[A\n",
      "\n",
      " 29%|██▉       | 29136/100000 [00:06<00:15, 4667.86it/s]\u001b[A\u001b[A\n",
      "\n",
      " 30%|██▉       | 29604/100000 [00:06<00:15, 4635.76it/s]\u001b[A\u001b[A\n",
      "\n",
      " 30%|███       | 30069/100000 [00:06<00:15, 4559.39it/s]\u001b[A\u001b[A\n",
      "\n",
      " 31%|███       | 30537/100000 [00:06<00:15, 4593.27it/s]\u001b[A\u001b[A\n",
      "\n",
      " 31%|███       | 30997/100000 [00:07<00:15, 4588.17it/s]\u001b[A\u001b[A\n",
      "\n",
      " 31%|███▏      | 31457/100000 [00:07<00:15, 4381.89it/s]\u001b[A\u001b[A\n",
      "\n",
      " 32%|███▏      | 31898/100000 [00:07<00:16, 4256.36it/s]\u001b[A\u001b[A\n",
      "\n",
      " 32%|███▏      | 32350/100000 [00:07<00:15, 4329.76it/s]\u001b[A\u001b[A\n",
      "\n",
      " 33%|███▎      | 32817/100000 [00:07<00:15, 4424.82it/s]\u001b[A\u001b[A\n",
      "\n",
      " 33%|███▎      | 33262/100000 [00:07<00:15, 4400.19it/s]\u001b[A\u001b[A\n",
      "\n",
      " 34%|███▎      | 33735/100000 [00:07<00:14, 4493.93it/s]\u001b[A\u001b[A\n",
      "\n",
      " 34%|███▍      | 34198/100000 [00:07<00:14, 4533.34it/s]\u001b[A\u001b[A\n",
      "\n",
      " 35%|███▍      | 34653/100000 [00:07<00:14, 4525.14it/s]\u001b[A\u001b[A\n",
      "\n",
      " 35%|███▌      | 35115/100000 [00:08<00:14, 4550.71it/s]\u001b[A\u001b[A\n",
      "\n",
      " 36%|███▌      | 35605/100000 [00:08<00:13, 4649.31it/s]\u001b[A\u001b[A\n",
      "\n",
      " 36%|███▌      | 36071/100000 [00:08<00:13, 4642.48it/s]\u001b[A\u001b[A\n",
      "\n",
      " 37%|███▋      | 36536/100000 [00:08<00:14, 4511.98it/s]\u001b[A\u001b[A\n",
      "\n",
      " 37%|███▋      | 36989/100000 [00:08<00:14, 4481.30it/s]\u001b[A\u001b[A\n",
      "\n",
      " 37%|███▋      | 37439/100000 [00:08<00:13, 4478.97it/s]\u001b[A\u001b[A\n",
      "\n",
      " 38%|███▊      | 37888/100000 [00:08<00:13, 4438.25it/s]\u001b[A\u001b[A\n",
      "\n",
      " 38%|███▊      | 38346/100000 [00:08<00:13, 4479.36it/s]\u001b[A\u001b[A\n",
      "\n",
      " 39%|███▉      | 38815/100000 [00:08<00:13, 4540.44it/s]\u001b[A\u001b[A\n",
      "\n",
      " 39%|███▉      | 39270/100000 [00:08<00:13, 4496.68it/s]\u001b[A\u001b[A\n",
      "\n",
      " 40%|███▉      | 39721/100000 [00:09<00:13, 4435.25it/s]\u001b[A\u001b[A\n",
      "\n",
      " 40%|████      | 40166/100000 [00:09<00:14, 4150.20it/s]\u001b[A\u001b[A\n",
      "\n",
      " 41%|████      | 40586/100000 [00:09<00:14, 4033.74it/s]\u001b[A\u001b[A\n",
      "\n",
      " 41%|████      | 41028/100000 [00:09<00:14, 4142.05it/s]\u001b[A\u001b[A\n",
      "\n",
      " 41%|████▏     | 41494/100000 [00:09<00:13, 4284.74it/s]\u001b[A\u001b[A\n",
      "\n",
      " 42%|████▏     | 41963/100000 [00:09<00:13, 4398.76it/s]\u001b[A\u001b[A\n",
      "\n",
      " 42%|████▏     | 42412/100000 [00:09<00:13, 4424.19it/s]\u001b[A\u001b[A\n",
      "\n",
      " 43%|████▎     | 42857/100000 [00:09<00:13, 4355.24it/s]\u001b[A\u001b[A\n",
      "\n",
      " 43%|████▎     | 43295/100000 [00:09<00:13, 4119.60it/s]\u001b[A\u001b[A\n",
      "\n",
      " 44%|████▎     | 43711/100000 [00:10<00:14, 3884.35it/s]\u001b[A\u001b[A\n",
      "\n",
      " 44%|████▍     | 44113/100000 [00:10<00:14, 3923.95it/s]\u001b[A\u001b[A\n",
      "\n",
      " 45%|████▍     | 44534/100000 [00:10<00:13, 4002.02it/s]\u001b[A\u001b[A\n",
      "\n",
      " 45%|████▍     | 44938/100000 [00:10<00:14, 3930.00it/s]\u001b[A\u001b[A\n",
      "\n",
      " 45%|████▌     | 45334/100000 [00:10<00:14, 3843.27it/s]\u001b[A\u001b[A\n",
      "\n",
      " 46%|████▌     | 45786/100000 [00:10<00:13, 4022.82it/s]\u001b[A\u001b[A\n",
      "\n",
      " 46%|████▋     | 46261/100000 [00:10<00:12, 4216.34it/s]\u001b[A\u001b[A\n",
      "\n",
      " 47%|████▋     | 46715/100000 [00:10<00:12, 4307.72it/s]\u001b[A\u001b[A\n",
      "\n",
      " 47%|████▋     | 47181/100000 [00:10<00:11, 4407.58it/s]\u001b[A\u001b[A\n",
      "\n",
      " 48%|████▊     | 47626/100000 [00:10<00:11, 4415.68it/s]\u001b[A\u001b[A\n",
      "\n",
      " 48%|████▊     | 48080/100000 [00:11<00:11, 4450.40it/s]\u001b[A\u001b[A\n",
      "\n",
      " 49%|████▊     | 48546/100000 [00:11<00:11, 4508.94it/s]\u001b[A\u001b[A\n",
      "\n",
      " 49%|████▉     | 49018/100000 [00:11<00:11, 4568.86it/s]\u001b[A\u001b[A\n",
      "\n",
      " 49%|████▉     | 49490/100000 [00:11<00:10, 4612.20it/s]\u001b[A\u001b[A\n",
      "\n",
      " 50%|████▉     | 49953/100000 [00:11<00:10, 4615.70it/s]\u001b[A\u001b[A\n",
      "\n",
      " 50%|█████     | 50427/100000 [00:11<00:10, 4652.04it/s]\u001b[A\u001b[A\n",
      "\n",
      " 51%|█████     | 50893/100000 [00:11<00:10, 4646.37it/s]\u001b[A\u001b[A\n",
      "\n",
      " 51%|█████▏    | 51359/100000 [00:11<00:10, 4627.47it/s]\u001b[A\u001b[A\n",
      "\n",
      " 52%|█████▏    | 51823/100000 [00:11<00:10, 4601.68it/s]\u001b[A\u001b[A\n",
      "\n",
      " 52%|█████▏    | 52284/100000 [00:11<00:10, 4563.35it/s]\u001b[A\u001b[A\n",
      "\n",
      " 53%|█████▎    | 52741/100000 [00:12<00:10, 4436.50it/s]\u001b[A\u001b[A\n",
      "\n",
      " 53%|█████▎    | 53186/100000 [00:12<00:10, 4437.92it/s]\u001b[A\u001b[A\n",
      "\n",
      " 54%|█████▎    | 53642/100000 [00:12<00:10, 4473.02it/s]\u001b[A\u001b[A\n",
      "\n",
      " 54%|█████▍    | 54106/100000 [00:12<00:10, 4521.83it/s]\u001b[A\u001b[A\n",
      "\n",
      " 55%|█████▍    | 54578/100000 [00:12<00:09, 4578.12it/s]\u001b[A\u001b[A\n",
      "\n",
      " 55%|█████▌    | 55049/100000 [00:12<00:09, 4615.30it/s]\u001b[A\u001b[A\n",
      "\n",
      " 56%|█████▌    | 55516/100000 [00:12<00:09, 4631.55it/s]\u001b[A\u001b[A\n",
      "\n",
      " 56%|█████▌    | 55990/100000 [00:12<00:09, 4662.30it/s]\u001b[A\u001b[A\n",
      "\n",
      " 56%|█████▋    | 56457/100000 [00:12<00:09, 4614.08it/s]\u001b[A\u001b[A\n",
      "\n",
      " 57%|█████▋    | 56919/100000 [00:12<00:09, 4433.56it/s]\u001b[A\u001b[A\n",
      "\n",
      " 57%|█████▋    | 57394/100000 [00:13<00:09, 4523.43it/s]\u001b[A\u001b[A\n",
      "\n",
      " 58%|█████▊    | 57871/100000 [00:13<00:09, 4593.86it/s]\u001b[A\u001b[A\n",
      "\n",
      " 58%|█████▊    | 58342/100000 [00:13<00:09, 4626.35it/s]\u001b[A\u001b[A\n",
      "\n"
     ]
    },
    {
     "name": "stderr",
     "output_type": "stream",
     "text": [
      " 59%|█████▉    | 58829/100000 [00:13<00:08, 4694.40it/s]\u001b[A\u001b[A\n",
      "\n",
      " 59%|█████▉    | 59303/100000 [00:13<00:08, 4707.47it/s]\u001b[A\u001b[A\n",
      "\n",
      " 60%|█████▉    | 59775/100000 [00:13<00:08, 4708.89it/s]\u001b[A\u001b[A\n",
      "\n",
      " 60%|██████    | 60247/100000 [00:13<00:08, 4701.95it/s]\u001b[A\u001b[A\n",
      "\n",
      " 61%|██████    | 60720/100000 [00:13<00:08, 4709.98it/s]\u001b[A\u001b[A\n",
      "\n",
      " 61%|██████    | 61192/100000 [00:13<00:08, 4673.25it/s]\u001b[A\u001b[A\n",
      "\n",
      " 62%|██████▏   | 61660/100000 [00:13<00:08, 4663.16it/s]\u001b[A\u001b[A\n",
      "\n",
      " 62%|██████▏   | 62139/100000 [00:14<00:08, 4697.97it/s]\u001b[A\u001b[A\n",
      "\n",
      " 63%|██████▎   | 62611/100000 [00:14<00:07, 4704.54it/s]\u001b[A\u001b[A\n",
      "\n",
      " 63%|██████▎   | 63082/100000 [00:14<00:07, 4696.94it/s]\u001b[A\u001b[A\n",
      "\n",
      " 64%|██████▎   | 63552/100000 [00:14<00:07, 4650.61it/s]\u001b[A\u001b[A\n",
      "\n",
      " 64%|██████▍   | 64023/100000 [00:14<00:07, 4666.21it/s]\u001b[A\u001b[A\n",
      "\n",
      " 64%|██████▍   | 64490/100000 [00:14<00:07, 4658.78it/s]\u001b[A\u001b[A\n",
      "\n",
      " 65%|██████▍   | 64963/100000 [00:14<00:07, 4677.98it/s]\u001b[A\u001b[A\n",
      "\n",
      " 65%|██████▌   | 65431/100000 [00:14<00:07, 4664.04it/s]\u001b[A\u001b[A\n",
      "\n",
      " 66%|██████▌   | 65898/100000 [00:14<00:07, 4653.53it/s]\u001b[A\u001b[A\n",
      "\n",
      " 66%|██████▋   | 66364/100000 [00:14<00:07, 4630.23it/s]\u001b[A\u001b[A\n",
      "\n",
      " 67%|██████▋   | 66828/100000 [00:15<00:07, 4600.31it/s]\u001b[A\u001b[A\n",
      "\n",
      " 67%|██████▋   | 67297/100000 [00:15<00:07, 4622.94it/s]\u001b[A\u001b[A\n",
      "\n",
      " 68%|██████▊   | 67760/100000 [00:15<00:07, 4577.56it/s]\u001b[A\u001b[A\n",
      "\n",
      " 68%|██████▊   | 68218/100000 [00:15<00:06, 4545.39it/s]\u001b[A\u001b[A\n",
      "\n",
      " 69%|██████▊   | 68673/100000 [00:15<00:06, 4534.08it/s]\u001b[A\u001b[A\n",
      "\n",
      " 69%|██████▉   | 69127/100000 [00:15<00:06, 4524.47it/s]\u001b[A\u001b[A\n",
      "\n",
      " 70%|██████▉   | 69601/100000 [00:15<00:06, 4585.44it/s]\u001b[A\u001b[A\n",
      "\n",
      " 70%|███████   | 70072/100000 [00:15<00:06, 4620.26it/s]\u001b[A\u001b[A\n",
      "\n",
      " 71%|███████   | 70548/100000 [00:15<00:06, 4660.27it/s]\u001b[A\u001b[A\n",
      "\n",
      " 71%|███████   | 71015/100000 [00:15<00:06, 4625.89it/s]\u001b[A\u001b[A\n",
      "\n",
      " 71%|███████▏  | 71478/100000 [00:16<00:06, 4605.22it/s]\u001b[A\u001b[A\n",
      "\n",
      " 72%|███████▏  | 71950/100000 [00:16<00:06, 4637.74it/s]\u001b[A\u001b[A\n",
      "\n",
      " 72%|███████▏  | 72428/100000 [00:16<00:05, 4677.39it/s]\u001b[A\u001b[A\n",
      "\n",
      " 73%|███████▎  | 72908/100000 [00:16<00:05, 4712.78it/s]\u001b[A\u001b[A\n",
      "\n",
      " 73%|███████▎  | 73383/100000 [00:16<00:05, 4721.69it/s]\u001b[A\u001b[A\n",
      "\n",
      " 74%|███████▍  | 73856/100000 [00:16<00:05, 4691.28it/s]\u001b[A\u001b[A\n",
      "\n",
      " 74%|███████▍  | 74326/100000 [00:16<00:05, 4670.98it/s]\u001b[A\u001b[A\n",
      "\n",
      " 75%|███████▍  | 74794/100000 [00:16<00:05, 4652.35it/s]\u001b[A\u001b[A\n",
      "\n",
      " 75%|███████▌  | 75260/100000 [00:16<00:05, 4559.64it/s]\u001b[A\u001b[A\n",
      "\n",
      " 76%|███████▌  | 75717/100000 [00:17<00:05, 4485.71it/s]\u001b[A\u001b[A\n",
      "\n",
      " 76%|███████▌  | 76167/100000 [00:17<00:05, 4440.60it/s]\u001b[A\u001b[A\n",
      "\n",
      " 77%|███████▋  | 76612/100000 [00:17<00:05, 4419.63it/s]\u001b[A\u001b[A\n",
      "\n",
      " 77%|███████▋  | 77055/100000 [00:17<00:05, 4387.58it/s]\u001b[A\u001b[A\n",
      "\n",
      " 77%|███████▋  | 77495/100000 [00:17<00:05, 4378.12it/s]\u001b[A\u001b[A\n",
      "\n",
      " 78%|███████▊  | 77977/100000 [00:17<00:04, 4500.06it/s]\u001b[A\u001b[A\n",
      "\n",
      " 78%|███████▊  | 78460/100000 [00:17<00:04, 4593.41it/s]\u001b[A\u001b[A\n",
      "\n",
      " 79%|███████▉  | 78931/100000 [00:17<00:04, 4625.66it/s]\u001b[A\u001b[A\n",
      "\n",
      " 79%|███████▉  | 79395/100000 [00:17<00:04, 4606.15it/s]\u001b[A\u001b[A\n",
      "\n",
      " 80%|███████▉  | 79866/100000 [00:17<00:04, 4635.06it/s]\u001b[A\u001b[A\n",
      "\n",
      " 80%|████████  | 80333/100000 [00:18<00:04, 4645.41it/s]\u001b[A\u001b[A\n",
      "\n",
      " 81%|████████  | 80808/100000 [00:18<00:04, 4675.48it/s]\u001b[A\u001b[A\n",
      "\n",
      " 81%|████████▏ | 81278/100000 [00:18<00:03, 4681.80it/s]\u001b[A\u001b[A\n",
      "\n",
      " 82%|████████▏ | 81747/100000 [00:18<00:03, 4673.73it/s]\u001b[A\u001b[A\n",
      "\n",
      " 82%|████████▏ | 82215/100000 [00:18<00:03, 4671.80it/s]\u001b[A\u001b[A\n",
      "\n",
      " 83%|████████▎ | 82691/100000 [00:18<00:03, 4697.62it/s]\u001b[A\u001b[A\n",
      "\n",
      " 83%|████████▎ | 83173/100000 [00:18<00:03, 4733.09it/s]\u001b[A\u001b[A\n",
      "\n",
      " 84%|████████▎ | 83660/100000 [00:18<00:03, 4770.74it/s]\u001b[A\u001b[A\n",
      "\n",
      " 84%|████████▍ | 84143/100000 [00:18<00:03, 4785.86it/s]\u001b[A\u001b[A\n",
      "\n",
      " 85%|████████▍ | 84622/100000 [00:18<00:03, 4786.63it/s]\u001b[A\u001b[A\n",
      "\n",
      " 85%|████████▌ | 85101/100000 [00:19<00:03, 4725.05it/s]\u001b[A\u001b[A\n",
      "\n",
      " 86%|████████▌ | 85574/100000 [00:19<00:03, 4702.95it/s]\u001b[A\u001b[A\n",
      "\n",
      " 86%|████████▌ | 86049/100000 [00:19<00:02, 4716.33it/s]\u001b[A\u001b[A\n",
      "\n",
      " 87%|████████▋ | 86521/100000 [00:19<00:02, 4701.88it/s]\u001b[A\u001b[A\n",
      "\n",
      " 87%|████████▋ | 86995/100000 [00:19<00:02, 4712.84it/s]\u001b[A\u001b[A\n",
      "\n",
      " 87%|████████▋ | 87467/100000 [00:19<00:02, 4529.49it/s]\u001b[A\u001b[A\n",
      "\n",
      " 88%|████████▊ | 87942/100000 [00:19<00:02, 4592.53it/s]\u001b[A\u001b[A\n",
      "\n",
      " 88%|████████▊ | 88420/100000 [00:19<00:02, 4645.92it/s]\u001b[A\u001b[A\n",
      "\n",
      " 89%|████████▉ | 88895/100000 [00:19<00:02, 4674.49it/s]\u001b[A\u001b[A\n",
      "\n",
      " 89%|████████▉ | 89366/100000 [00:19<00:02, 4682.92it/s]\u001b[A\u001b[A\n",
      "\n",
      " 90%|████████▉ | 89835/100000 [00:20<00:02, 4607.47it/s]\u001b[A\u001b[A\n",
      "\n",
      " 90%|█████████ | 90306/100000 [00:20<00:02, 4636.78it/s]\u001b[A\u001b[A\n",
      "\n",
      " 91%|█████████ | 90782/100000 [00:20<00:01, 4670.74it/s]\u001b[A\u001b[A\n",
      "\n",
      " 91%|█████████▏| 91268/100000 [00:20<00:01, 4724.07it/s]\u001b[A\u001b[A\n",
      "\n",
      " 92%|█████████▏| 91755/100000 [00:20<00:01, 4765.53it/s]\u001b[A\u001b[A\n",
      "\n",
      " 92%|█████████▏| 92232/100000 [00:20<00:01, 4578.77it/s]\u001b[A\u001b[A\n",
      "\n",
      " 93%|█████████▎| 92692/100000 [00:20<00:01, 4224.35it/s]\u001b[A\u001b[A\n",
      "\n",
      " 93%|█████████▎| 93143/100000 [00:20<00:01, 4304.10it/s]\u001b[A\u001b[A\n",
      "\n",
      " 94%|█████████▎| 93622/100000 [00:20<00:01, 4438.08it/s]\u001b[A\u001b[A\n",
      "\n",
      " 94%|█████████▍| 94098/100000 [00:20<00:01, 4528.11it/s]\u001b[A\u001b[A\n",
      "\n",
      " 95%|█████████▍| 94568/100000 [00:21<00:01, 4577.36it/s]\u001b[A\u001b[A\n",
      "\n",
      " 95%|█████████▌| 95031/100000 [00:21<00:01, 4591.10it/s]\u001b[A\u001b[A\n",
      "\n",
      " 96%|█████████▌| 95514/100000 [00:21<00:00, 4659.36it/s]\u001b[A\u001b[A\n",
      "\n",
      " 96%|█████████▌| 95990/100000 [00:21<00:00, 4688.18it/s]\u001b[A\u001b[A\n",
      "\n",
      " 96%|█████████▋| 96460/100000 [00:21<00:00, 4690.60it/s]\u001b[A\u001b[A\n",
      "\n",
      " 97%|█████████▋| 96930/100000 [00:21<00:00, 4513.44it/s]\u001b[A\u001b[A\n",
      "\n",
      " 97%|█████████▋| 97384/100000 [00:21<00:00, 4429.90it/s]\u001b[A\u001b[A\n",
      "\n",
      " 98%|█████████▊| 97847/100000 [00:21<00:00, 4486.54it/s]\u001b[A\u001b[A\n",
      "\n",
      " 98%|█████████▊| 98298/100000 [00:21<00:00, 4492.43it/s]\u001b[A\u001b[A\n",
      "\n",
      " 99%|█████████▉| 98762/100000 [00:22<00:00, 4533.19it/s]\u001b[A\u001b[A\n",
      "\n",
      " 99%|█████████▉| 99240/100000 [00:22<00:00, 4603.28it/s]\u001b[A\u001b[A\n",
      "\n",
      "100%|█████████▉| 99702/100000 [00:22<00:00, 4583.06it/s]\u001b[A\u001b[A"
     ]
    },
    {
     "data": {
      "application/vnd.jupyter.widget-view+json": {
       "model_id": "a82c3b809bab47be9e9fe9f215794a71",
       "version_major": 2,
       "version_minor": 0
      },
      "text/plain": [
       "HBox(children=(IntProgress(value=0, max=99900), HTML(value='')))"
      ]
     },
     "metadata": {},
     "output_type": "display_data"
    },
    {
     "name": "stdout",
     "output_type": "stream",
     "text": [
      "\n",
      "unique states 16\n"
     ]
    },
    {
     "data": {
      "application/vnd.jupyter.widget-view+json": {
       "model_id": "3844c6e5327745a48ec75f5116679e48",
       "version_major": 2,
       "version_minor": 0
      },
      "text/plain": [
       "HBox(children=(IntProgress(value=0, max=16), HTML(value='')))"
      ]
     },
     "metadata": {},
     "output_type": "display_data"
    },
    {
     "name": "stdout",
     "output_type": "stream",
     "text": [
      "\n"
     ]
    },
    {
     "name": "stderr",
     "output_type": "stream",
     "text": [
      "/home/casper/miniconda3/lib/python3.7/site-packages/ipykernel_launcher.py:31: RuntimeWarning: divide by zero encountered in log2\n",
      "/home/casper/miniconda3/lib/python3.7/site-packages/ipykernel_launcher.py:31: RuntimeWarning: invalid value encountered in multiply\n"
     ]
    }
   ],
   "source": [
    "N      = int(1e5)\n",
    "delta  = 10 # look back until\n",
    "res, cc, cond, state, px,  H = infcy.reverseCalculation(N, model, delta)\n",
    "\n",
    "res = model.simulate(N, verbose = True)\n",
    "n   = res.shape[0]\n",
    "\n",
    "delta = 100\n",
    "cond  = {} # storage for conditional distribution\n",
    "cc    = {} # counter for the unique states\n",
    "state = {} # gather the unique states\n",
    "\n",
    "Z   = n - delta # number of samples\n",
    "jdx = 1\n",
    "\n",
    "for i in tqdm(range(delta, n - jdx)):\n",
    "    tmp      = res[i - delta: i + jdx]\n",
    "    x        = tuple(res[i])\n",
    "    state[x] = state.get(x, 0) + 1 / Z\n",
    "    cond[x]  = cond.get(x, zeros(tmp.shape)) +  ((tmp + 1) / 2) # count node state = 1\n",
    "    cc[x]    = cc.get(x, 0) + 1\n",
    "print(f'unique states {len(cond)}')    \n",
    "\n",
    "H  = zeros((delta + jdx, model.nNodes))\n",
    "px = zeros((delta + jdx, model.nNodes))\n",
    "\n",
    "for key, value in tqdm(cond.items()):\n",
    "    z = value / cc[key] # convert to probabilities\n",
    "    z[isnan(z)] = 0\n",
    "    px += value / Z\n",
    "    x  = dstack((z * log2(z), (1 - z) * log2(1 - z)))\n",
    "    x  = nansum(x, -1)\n",
    "    H  += state[key] * x\n",
    "tmp = nansum(dstack((px * log2(px), (1 - px) * log2(1 - px))), -1)\n",
    "H  -= tmp\n"
   ]
  },
  {
   "cell_type": "code",
   "execution_count": 58,
   "metadata": {
    "scrolled": false
   },
   "outputs": [
    {
     "name": "stdout",
     "output_type": "stream",
     "text": [
      "[0.54732867 0.84979439 0.85606004 0.85376392 0.85447679]\n",
      "[0.12634508 0.27589313 0.28044764 0.27876598 0.27928649]\n",
      "-0.4689955935892812\n"
     ]
    }
   ],
   "source": [
    "# res.mean(axis = 1).mean()\n",
    "# z + 1 - z\n",
    "\n",
    "# print(-nansum(dstack(((px * log2(px), (1-px)*log2(1-px)))), axis = -1)[0])\n",
    "# print(px[0])\n",
    "# a = .1\n",
    "# print(nansum([i * log2(i) for i in [a, 1-a]]))"
   ]
  },
  {
   "cell_type": "code",
   "execution_count": 21,
   "metadata": {},
   "outputs": [
    {
     "data": {
      "image/png": "[encoded data removed]",
      "text/plain": [
       "<Figure size 432x288 with 1 Axes>"
      ]
     },
     "metadata": {
      "needs_background": "light"
     },
     "output_type": "display_data"
    },
    {
     "data": {
      "image/png": "[encoded data removed]",
      "text/plain": [
       "<Figure size 432x288 with 1 Axes>"
      ]
     },
     "metadata": {
      "needs_background": "light"
     },
     "output_type": "display_data"
    },
    {
     "data": {
      "image/png": "[encoded data removed]",
      "text/plain": [
       "<Figure size 432x288 with 1 Axes>"
      ]
     },
     "metadata": {
      "needs_background": "light"
     },
     "output_type": "display_data"
    },
    {
     "data": {
      "image/png": "[encoded data removed]",
      "text/plain": [
       "<Figure size 432x288 with 1 Axes>"
      ]
     },
     "metadata": {
      "needs_background": "light"
     },
     "output_type": "display_data"
    },
    {
     "data": {
      "image/png": "[encoded data removed]",
      "text/plain": [
       "<Figure size 432x288 with 1 Axes>"
      ]
     },
     "metadata": {
      "needs_background": "light"
     },
     "output_type": "display_data"
    },
    {
     "name": "stdout",
     "output_type": "stream",
     "text": [
      "int16\n"
     ]
    }
   ],
   "source": [
    "fig, ax = subplots(); ax.plot(H);\n",
    "\n",
    "yy = res.mean(1)\n",
    "N  = 5\n",
    "xx = convolve(yy, np.ones((N,))/N, mode='valid')\n",
    "fig, ax = subplots(); ax.plot(xx) #\n",
    "fig, ax = subplots()\n",
    "for node in model.nodeIDs:\n",
    "    deg = len(model.edgeData[node])\n",
    "    ax.scatter(deg, H[-2, node], label = node)\n",
    "ax.legend(bbox_to_anchor = (1, 1))\n",
    "   \n",
    "fig, ax = subplots()\n",
    "ax.hist(list(dict(nx.degree(graph)).values()))\n",
    "setp(ax, **dict(xlabel = 'degree', ylabel = 'freq'));\n",
    "fig, ax = subplots(); ax.hist(cc.values())\n",
    "show()\n",
    "\n",
    "print(res.dtype)"
   ]
  },
  {
   "cell_type": "code",
   "execution_count": 5,
   "metadata": {},
   "outputs": [
    {
     "data": {
      "text/plain": [
       "(-4, 11)"
      ]
     },
     "execution_count": 5,
     "metadata": {},
     "output_type": "execute_result"
    },
    {
     "data": {
      "image/png": "[encoded data removed]",
      "text/plain": [
       "<Figure size 432x288 with 1 Axes>"
      ]
     },
     "metadata": {
      "needs_background": "light"
     },
     "output_type": "display_data"
    }
   ],
   "source": [
    "# showing hellinger distance over time\n",
    "colors = cm.tab20(arange(model.nNodes))\n",
    "hd = lambda x, y: linalg.norm( sqrt(x) - sqrt (y), axis = -1) / sqrt(2)\n",
    "d = zeros(H.shape)\n",
    "for key, value in cond.items():\n",
    "    x = value[..., None] / cc[key]\n",
    "    d += hd(x,  1 - x)\n",
    "d /= len(cond)\n",
    "\n",
    "\n",
    "fig, ax = subplots(); \n",
    "[ax.plot(i, color = c) for i, c in zip(d.T, colors)]\n",
    "ax.set_title('hellinger distance over time')\n",
    "ax.set_xlim(len(x) - 15, len(x))"
   ]
  },
  {
   "cell_type": "code",
   "execution_count": 22,
   "metadata": {
    "scrolled": false
   },
   "outputs": [
    {
     "name": "stderr",
     "output_type": "stream",
     "text": [
      "/home/casper/miniconda3/lib/python3.7/site-packages/ipykernel_launcher.py:2: RuntimeWarning: invalid value encountered in add\n",
      "  \n",
      "/home/casper/miniconda3/lib/python3.7/site-packages/ipykernel_launcher.py:2: RuntimeWarning: overflow encountered in multiply\n",
      "  \n"
     ]
    },
    {
     "name": "stdout",
     "output_type": "stream",
     "text": [
      "0.00010831011175691721 [0.90228881] [0.00110831]\n",
      "0.00010769430785256376 [0.66815491] [0.00110769]\n",
      "0.00011021019353161924 [0.88601424] [0.00111021]\n",
      "0.00012116436652875947 [0.13677607] [0.00112116]\n",
      "0.00011556335997329296 [0.02217897] [0.00111556]\n",
      "100.0\n"
     ]
    },
    {
     "name": "stderr",
     "output_type": "stream",
     "text": [
      "/home/casper/miniconda3/lib/python3.7/site-packages/scipy/optimize/minpack.py:794: OptimizeWarning: Covariance of the parameters could not be estimated\n",
      "  category=OptimizeWarning)\n"
     ]
    },
    {
     "data": {
      "image/png": "[encoded data removed]",
      "text/plain": [
       "<Figure size 720x720 with 1 Axes>"
      ]
     },
     "metadata": {
      "needs_background": "light"
     },
     "output_type": "display_data"
    },
    {
     "name": "stderr",
     "output_type": "stream",
     "text": [
      "\n",
      "\n",
      "100%|██████████| 100000/100000 [00:37<00:00, 4583.06it/s]\u001b[A\u001b[A"
     ]
    }
   ],
   "source": [
    "from scipy import optimize\n",
    "func = lambda x, a, b, c, d, e, f : a + b*exp(-c*x) + d * exp(-e * (x-f))\n",
    "f2   = lambda x, a, b : func(x, *a) - b\n",
    "fig, ax = subplots(figsize = (10, 10))\n",
    "s = 0\n",
    "idt = zeros((model.nNodes))\n",
    "theta = 1e-3\n",
    "colors = cm.tab20(arange(model.nNodes))\n",
    "for idx, y in enumerate(H.T):\n",
    "    y = y[::-1]\n",
    "    x = arange(len(y))\n",
    "    xx = linspace(0, 20, 1000)\n",
    "    try:\n",
    "        a, b = optimize.curve_fit(func, x,  y, maxfev = 100000) # fit\n",
    "        \n",
    "        ax.plot(xx, func(xx, *a), '--', color = colors[idx], alpha = 1) # plot fit\n",
    "        \n",
    "        findThis = a[0] + theta\n",
    "        r  = optimize.root(f2,  x0 = 0, args = (a, findThis))\n",
    "        rot = r.x if findThis < max(y) else 0\n",
    "\n",
    "        print(a[0], rot, func(rot, *a))\n",
    "        idt[idx] = rot\n",
    "        ax.scatter(rot, func(rot, *a), color = colors[idx], s = 150, marker = '^', label = idx) # plot root 1\n",
    "        s += 1\n",
    "    except Exception as e : print(e)\n",
    "    ax.scatter(x, y, color = colors[idx], s = 40)\n",
    "ax.legend()\n",
    "print(s / model.nNodes * 100)\n",
    "ax.set_xlim(0,40)\n",
    "ax.set_xlim(0, 3)\n",
    "# ax.set_ylim(0, 1)\n",
    "# ax.set_xscale('log')\n",
    "# ax.set_yscale('log')\n",
    "\n",
    "show()"
   ]
  },
  {
   "cell_type": "code",
   "execution_count": 7,
   "metadata": {},
   "outputs": [
    {
     "data": {
      "text/plain": [
       "<matplotlib.image.AxesImage at 0x7f0a27127da0>"
      ]
     },
     "execution_count": 7,
     "metadata": {},
     "output_type": "execute_result"
    },
    {
     "data": {
      "image/png": "[encoded data removed]",
      "text/plain": [
       "<Figure size 432x288 with 1 Axes>"
      ]
     },
     "metadata": {
      "needs_background": "light"
     },
     "output_type": "display_data"
    }
   ],
   "source": [
    "imshow(log(H.T))\n"
   ]
  },
  {
   "cell_type": "code",
   "execution_count": 23,
   "metadata": {
    "scrolled": false
   },
   "outputs": [
    {
     "data": {
      "image/png": "[encoded data removed]",
      "text/plain": [
       "<Figure size 432x288 with 1 Axes>"
      ]
     },
     "metadata": {
      "needs_background": "light"
     },
     "output_type": "display_data"
    }
   ],
   "source": [
    "fig, ax = subplots()\n",
    "for node, deg in model.graph.degree():\n",
    "    idx = model.mapping[node]\n",
    "    ax.scatter(deg, idt[idx], c = colors[idx])\n",
    "# ax.set_ylim(0, -5)\n",
    "# axx.set_ylim(0, -5)\n",
    "# ax.set_yscale('log')\n",
    "\n"
   ]
  },
  {
   "cell_type": "code",
   "execution_count": 9,
   "metadata": {},
   "outputs": [
    {
     "data": {
      "text/plain": [
       "array([0, 0, 0, 0, 0], dtype=object)"
      ]
     },
     "execution_count": 9,
     "metadata": {},
     "output_type": "execute_result"
    },
    {
     "name": "stderr",
     "output_type": "stream",
     "text": [
      "\r",
      "100%|██████████| 100000/100000 [00:40<00:00, 4746.44it/s]"
     ]
    }
   ],
   "source": [
    "model.nudges\n"
   ]
  }
 ],
 "metadata": {
  "kernelspec": {
   "display_name": "Python 3",
   "language": "python",
   "name": "python3"
  },
  "language_info": {
   "codemirror_mode": {
    "name": "ipython",
    "version": 3
   },
   "file_extension": ".py",
   "mimetype": "text/x-python",
   "name": "python",
   "nbconvert_exporter": "python",
   "pygments_lexer": "ipython3",
   "version": "3.7.0"
  }
 },
 "nbformat": 4,
 "nbformat_minor": 2
}
