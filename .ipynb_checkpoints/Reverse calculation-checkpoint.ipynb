{
 "cells": [
  {
   "cell_type": "code",
   "execution_count": 40,
   "metadata": {
    "scrolled": true
   },
   "outputs": [
    {
     "name": "stderr",
     "output_type": "stream",
     "text": [
      "\n",
      "\n",
      "\n",
      "\n",
      "\n",
      "\n",
      "\n",
      "  0%|          | 0/50 [00:00<?, ?it/s]\u001b[A\u001b[A\u001b[A\u001b[A\u001b[A\u001b[A\u001b[A"
     ]
    },
    {
     "name": "stdout",
     "output_type": "stream",
     "text": [
      "Warning: no state detected; assuming standard values\n",
      "external field not detected assuming 0\n",
      "Initialized ISING model with \n",
      "temperature: 1\n",
      "mode: async\n",
      "No burnin used\n",
      "Setting T = 0.0, beta = inf\n",
      "Equilibrating using N = 10\n",
      "Starting burnin\n",
      "Number of bunin samples used 16\n",
      "\n",
      "\n",
      "absolute mean magnetization last sample 0.6666666666666666\n"
     ]
    },
    {
     "name": "stderr",
     "output_type": "stream",
     "text": [
      "\n",
      "\n",
      "\n",
      "\n",
      "\n",
      "\n",
      "\n",
      "  2%|▏         | 1/50 [00:00<00:15,  3.13it/s]\u001b[A\u001b[A\u001b[A\u001b[A\u001b[A\u001b[A\u001b[A"
     ]
    },
    {
     "name": "stdout",
     "output_type": "stream",
     "text": [
      "Setting T = 0.20408163265306123, beta = 4.8999999999999995\n",
      "Equilibrating using N = 10\n",
      "Starting burnin\n",
      "Number of bunin samples used 27\n",
      "\n",
      "\n",
      "absolute mean magnetization last sample 0.6666666666666666\n"
     ]
    },
    {
     "name": "stderr",
     "output_type": "stream",
     "text": [
      "\n",
      "\n",
      "\n",
      "\n",
      "\n",
      "\n",
      "\n",
      "  4%|▍         | 2/50 [00:00<00:15,  3.15it/s]\u001b[A\u001b[A\u001b[A\u001b[A\u001b[A\u001b[A\u001b[A"
     ]
    },
    {
     "name": "stdout",
     "output_type": "stream",
     "text": [
      "Setting T = 0.40816326530612246, beta = 2.4499999999999997\n",
      "Equilibrating using N = 10\n",
      "Starting burnin\n",
      "Number of bunin samples used 14\n",
      "\n",
      "\n",
      "absolute mean magnetization last sample 0.6666666666666666\n"
     ]
    },
    {
     "name": "stderr",
     "output_type": "stream",
     "text": [
      "\n",
      "\n",
      "\n",
      "\n",
      "\n",
      "\n",
      "\n",
      "  6%|▌         | 3/50 [00:00<00:14,  3.18it/s]\u001b[A\u001b[A\u001b[A\u001b[A\u001b[A\u001b[A\u001b[A"
     ]
    },
    {
     "name": "stdout",
     "output_type": "stream",
     "text": [
      "Setting T = 0.6122448979591837, beta = 1.6333333333333333\n",
      "Equilibrating using N = 10\n",
      "Starting burnin\n",
      "Number of bunin samples used 24\n",
      "\n",
      "\n",
      "absolute mean magnetization last sample 0.6666666666666666\n"
     ]
    },
    {
     "name": "stderr",
     "output_type": "stream",
     "text": [
      "\n",
      "\n",
      "\n",
      "\n",
      "\n",
      "\n",
      "\n",
      "  8%|▊         | 4/50 [00:01<00:14,  3.11it/s]\u001b[A\u001b[A\u001b[A\u001b[A\u001b[A\u001b[A\u001b[A"
     ]
    },
    {
     "name": "stdout",
     "output_type": "stream",
     "text": [
      "Setting T = 0.8163265306122449, beta = 1.2249999999999999\n",
      "Equilibrating using N = 10\n",
      "Starting burnin\n",
      "Number of bunin samples used 28\n",
      "\n",
      "\n",
      "absolute mean magnetization last sample 0.8333333333333334\n"
     ]
    },
    {
     "name": "stderr",
     "output_type": "stream",
     "text": [
      "\n",
      "\n",
      "\n",
      "\n",
      "\n",
      "\n",
      "\n",
      " 10%|█         | 5/50 [00:01<00:16,  2.72it/s]\u001b[A\u001b[A\u001b[A\u001b[A\u001b[A\u001b[A\u001b[A"
     ]
    },
    {
     "name": "stdout",
     "output_type": "stream",
     "text": [
      "Setting T = 1.0204081632653061, beta = 0.98\n",
      "Equilibrating using N = 10\n",
      "Starting burnin\n",
      "Number of bunin samples used 17\n",
      "\n",
      "\n",
      "absolute mean magnetization last sample 0.6666666666666666\n"
     ]
    },
    {
     "name": "stderr",
     "output_type": "stream",
     "text": [
      "\n",
      "\n",
      "\n",
      "\n",
      "\n",
      "\n",
      "\n",
      " 12%|█▏        | 6/50 [00:02<00:15,  2.83it/s]\u001b[A\u001b[A\u001b[A\u001b[A\u001b[A\u001b[A\u001b[A"
     ]
    },
    {
     "name": "stdout",
     "output_type": "stream",
     "text": [
      "Setting T = 1.2244897959183674, beta = 0.8166666666666667\n",
      "Equilibrating using N = 10\n",
      "Starting burnin\n",
      "Number of bunin samples used 13\n",
      "\n",
      "\n",
      "absolute mean magnetization last sample 0.6666666666666666\n"
     ]
    },
    {
     "name": "stderr",
     "output_type": "stream",
     "text": [
      "\n",
      "\n",
      "\n",
      "\n",
      "\n",
      "\n",
      "\n",
      " 14%|█▍        | 7/50 [00:02<00:15,  2.77it/s]\u001b[A\u001b[A\u001b[A\u001b[A\u001b[A\u001b[A\u001b[A"
     ]
    },
    {
     "name": "stdout",
     "output_type": "stream",
     "text": [
      "Setting T = 1.4285714285714286, beta = 0.7\n",
      "Equilibrating using N = 10\n",
      "Starting burnin\n",
      "Number of bunin samples used 42\n",
      "\n",
      "\n",
      "absolute mean magnetization last sample 0.8333333333333334\n"
     ]
    },
    {
     "name": "stderr",
     "output_type": "stream",
     "text": [
      "\n",
      "\n",
      "\n",
      "\n",
      "\n",
      "\n",
      "\n",
      " 16%|█▌        | 8/50 [00:02<00:14,  2.82it/s]\u001b[A\u001b[A\u001b[A\u001b[A\u001b[A\u001b[A\u001b[A"
     ]
    },
    {
     "name": "stdout",
     "output_type": "stream",
     "text": [
      "Setting T = 1.6326530612244898, beta = 0.6124999999999999\n",
      "Equilibrating using N = 10\n",
      "Starting burnin\n",
      "Number of bunin samples used 42\n",
      "\n",
      "\n",
      "absolute mean magnetization last sample 0.16666666666666666\n"
     ]
    },
    {
     "name": "stderr",
     "output_type": "stream",
     "text": [
      "\n",
      "\n",
      "\n",
      "\n",
      "\n",
      "\n",
      "\n",
      " 18%|█▊        | 9/50 [00:03<00:14,  2.88it/s]\u001b[A\u001b[A\u001b[A\u001b[A\u001b[A\u001b[A\u001b[A"
     ]
    },
    {
     "name": "stdout",
     "output_type": "stream",
     "text": [
      "Setting T = 1.836734693877551, beta = 0.5444444444444444\n",
      "Equilibrating using N = 10\n",
      "Starting burnin\n",
      "Number of bunin samples used 13\n",
      "\n",
      "\n",
      "absolute mean magnetization last sample 0.0\n"
     ]
    },
    {
     "name": "stderr",
     "output_type": "stream",
     "text": [
      "\n",
      "\n",
      "\n",
      "\n",
      "\n",
      "\n",
      "\n",
      " 20%|██        | 10/50 [00:03<00:13,  2.98it/s]\u001b[A\u001b[A\u001b[A\u001b[A\u001b[A\u001b[A\u001b[A"
     ]
    },
    {
     "name": "stdout",
     "output_type": "stream",
     "text": [
      "Setting T = 2.0408163265306123, beta = 0.49\n",
      "Equilibrating using N = 10\n",
      "Starting burnin\n",
      "Number of bunin samples used 12\n",
      "\n",
      "\n",
      "absolute mean magnetization last sample 0.3333333333333333\n"
     ]
    },
    {
     "name": "stderr",
     "output_type": "stream",
     "text": [
      "\n",
      "\n",
      "\n",
      "\n",
      "\n",
      "\n",
      "\n",
      " 22%|██▏       | 11/50 [00:03<00:12,  3.03it/s]\u001b[A\u001b[A\u001b[A\u001b[A\u001b[A\u001b[A\u001b[A"
     ]
    },
    {
     "name": "stdout",
     "output_type": "stream",
     "text": [
      "Setting T = 2.2448979591836737, beta = 0.4454545454545454\n",
      "Equilibrating using N = 10\n",
      "Starting burnin\n",
      "Number of bunin samples used 18\n",
      "\n",
      "\n",
      "absolute mean magnetization last sample 0.3333333333333333\n"
     ]
    },
    {
     "name": "stderr",
     "output_type": "stream",
     "text": [
      "\n",
      "\n",
      "\n",
      "\n",
      "\n",
      "\n",
      "\n",
      " 24%|██▍       | 12/50 [00:04<00:12,  2.95it/s]\u001b[A\u001b[A\u001b[A\u001b[A\u001b[A\u001b[A\u001b[A"
     ]
    },
    {
     "name": "stdout",
     "output_type": "stream",
     "text": [
      "Setting T = 2.4489795918367347, beta = 0.4083333333333333\n",
      "Equilibrating using N = 10\n",
      "Starting burnin\n",
      "Number of bunin samples used 20\n",
      "\n",
      "\n",
      "absolute mean magnetization last sample 0.6666666666666666\n"
     ]
    },
    {
     "name": "stderr",
     "output_type": "stream",
     "text": [
      "\n",
      "\n",
      "\n",
      "\n",
      "\n",
      "\n",
      "\n",
      " 26%|██▌       | 13/50 [00:04<00:12,  3.00it/s]\u001b[A\u001b[A\u001b[A\u001b[A\u001b[A\u001b[A\u001b[A"
     ]
    },
    {
     "name": "stdout",
     "output_type": "stream",
     "text": [
      "Setting T = 2.6530612244897958, beta = 0.37692307692307697\n",
      "Equilibrating using N = 10\n",
      "Starting burnin\n",
      "Number of bunin samples used 34\n",
      "\n",
      "\n",
      "absolute mean magnetization last sample 0.5\n"
     ]
    },
    {
     "name": "stderr",
     "output_type": "stream",
     "text": [
      "\n",
      "\n",
      "\n",
      "\n",
      "\n",
      "\n",
      "\n",
      " 28%|██▊       | 14/50 [00:04<00:12,  2.98it/s]\u001b[A\u001b[A\u001b[A\u001b[A\u001b[A\u001b[A\u001b[A"
     ]
    },
    {
     "name": "stdout",
     "output_type": "stream",
     "text": [
      "Setting T = 2.857142857142857, beta = 0.35\n",
      "Equilibrating using N = 10\n",
      "Starting burnin\n",
      "Number of bunin samples used 16\n",
      "\n",
      "\n",
      "absolute mean magnetization last sample 0.6666666666666666\n"
     ]
    },
    {
     "name": "stderr",
     "output_type": "stream",
     "text": [
      "\n",
      "\n",
      "\n",
      "\n",
      "\n",
      "\n",
      "\n",
      " 30%|███       | 15/50 [00:05<00:11,  3.01it/s]\u001b[A\u001b[A\u001b[A\u001b[A\u001b[A\u001b[A\u001b[A"
     ]
    },
    {
     "name": "stdout",
     "output_type": "stream",
     "text": [
      "Setting T = 3.0612244897959187, beta = 0.32666666666666666\n",
      "Equilibrating using N = 10\n",
      "Starting burnin\n",
      "Number of bunin samples used 12\n",
      "\n",
      "\n",
      "absolute mean magnetization last sample 0.16666666666666666\n"
     ]
    },
    {
     "name": "stderr",
     "output_type": "stream",
     "text": [
      "\n",
      "\n",
      "\n",
      "\n",
      "\n",
      "\n",
      "\n",
      " 32%|███▏      | 16/50 [00:05<00:11,  3.04it/s]\u001b[A\u001b[A\u001b[A\u001b[A\u001b[A\u001b[A\u001b[A"
     ]
    },
    {
     "name": "stdout",
     "output_type": "stream",
     "text": [
      "Setting T = 3.2653061224489797, beta = 0.30624999999999997\n",
      "Equilibrating using N = 10\n",
      "Starting burnin\n",
      "Number of bunin samples used 14\n",
      "\n",
      "\n",
      "absolute mean magnetization last sample 0.0\n"
     ]
    },
    {
     "name": "stderr",
     "output_type": "stream",
     "text": [
      "\n",
      "\n",
      "\n",
      "\n",
      "\n",
      "\n",
      "\n",
      " 34%|███▍      | 17/50 [00:05<00:10,  3.05it/s]\u001b[A\u001b[A\u001b[A\u001b[A\u001b[A\u001b[A\u001b[A"
     ]
    },
    {
     "name": "stdout",
     "output_type": "stream",
     "text": [
      "Setting T = 3.4693877551020407, beta = 0.2882352941176471\n",
      "Equilibrating using N = 10\n",
      "Starting burnin\n",
      "Number of bunin samples used 18\n",
      "\n",
      "\n",
      "absolute mean magnetization last sample 0.16666666666666666\n"
     ]
    },
    {
     "name": "stderr",
     "output_type": "stream",
     "text": [
      "\n",
      "\n",
      "\n",
      "\n",
      "\n",
      "\n",
      "\n",
      " 36%|███▌      | 18/50 [00:06<00:10,  3.07it/s]\u001b[A\u001b[A\u001b[A\u001b[A\u001b[A\u001b[A\u001b[A"
     ]
    },
    {
     "name": "stdout",
     "output_type": "stream",
     "text": [
      "Setting T = 3.673469387755102, beta = 0.2722222222222222\n",
      "Equilibrating using N = 10\n",
      "Starting burnin\n",
      "Number of bunin samples used 18\n",
      "\n",
      "\n",
      "absolute mean magnetization last sample 0.3333333333333333\n"
     ]
    },
    {
     "name": "stderr",
     "output_type": "stream",
     "text": [
      "\n",
      "\n",
      "\n",
      "\n",
      "\n",
      "\n",
      "\n",
      " 38%|███▊      | 19/50 [00:06<00:10,  2.95it/s]\u001b[A\u001b[A\u001b[A\u001b[A\u001b[A\u001b[A\u001b[A"
     ]
    },
    {
     "name": "stdout",
     "output_type": "stream",
     "text": [
      "Setting T = 3.8775510204081636, beta = 0.25789473684210523\n",
      "Equilibrating using N = 10\n",
      "Starting burnin\n",
      "Number of bunin samples used 13\n",
      "\n",
      "\n",
      "absolute mean magnetization last sample 0.3333333333333333\n"
     ]
    },
    {
     "name": "stderr",
     "output_type": "stream",
     "text": [
      "\n",
      "\n",
      "\n",
      "\n",
      "\n",
      "\n",
      "\n",
      " 40%|████      | 20/50 [00:06<00:10,  2.87it/s]\u001b[A\u001b[A\u001b[A\u001b[A\u001b[A\u001b[A\u001b[A"
     ]
    },
    {
     "name": "stdout",
     "output_type": "stream",
     "text": [
      "Setting T = 4.081632653061225, beta = 0.245\n",
      "Equilibrating using N = 10\n",
      "Starting burnin\n",
      "Number of bunin samples used 26\n",
      "\n",
      "\n",
      "absolute mean magnetization last sample 0.3333333333333333\n"
     ]
    },
    {
     "name": "stderr",
     "output_type": "stream",
     "text": [
      "\n",
      "\n",
      "\n",
      "\n",
      "\n",
      "\n",
      "\n",
      " 42%|████▏     | 21/50 [00:07<00:10,  2.76it/s]\u001b[A\u001b[A\u001b[A\u001b[A\u001b[A\u001b[A\u001b[A"
     ]
    },
    {
     "name": "stdout",
     "output_type": "stream",
     "text": [
      "Setting T = 4.285714285714286, beta = 0.23333333333333334\n",
      "Equilibrating using N = 10\n",
      "Starting burnin\n",
      "Number of bunin samples used 21\n",
      "\n",
      "\n",
      "absolute mean magnetization last sample 0.3333333333333333\n"
     ]
    },
    {
     "name": "stderr",
     "output_type": "stream",
     "text": [
      "\n",
      "\n",
      "\n",
      "\n",
      "\n",
      "\n",
      "\n",
      " 44%|████▍     | 22/50 [00:07<00:09,  2.83it/s]\u001b[A\u001b[A\u001b[A\u001b[A\u001b[A\u001b[A\u001b[A"
     ]
    },
    {
     "name": "stdout",
     "output_type": "stream",
     "text": [
      "Setting T = 4.4897959183673475, beta = 0.2227272727272727\n",
      "Equilibrating using N = 10\n",
      "Starting burnin\n",
      "Number of bunin samples used 28\n",
      "\n",
      "\n",
      "absolute mean magnetization last sample 0.3333333333333333\n"
     ]
    },
    {
     "name": "stderr",
     "output_type": "stream",
     "text": [
      "\n",
      "\n",
      "\n",
      "\n",
      "\n",
      "\n",
      "\n",
      " 46%|████▌     | 23/50 [00:07<00:09,  2.89it/s]\u001b[A\u001b[A\u001b[A\u001b[A\u001b[A\u001b[A\u001b[A"
     ]
    },
    {
     "name": "stdout",
     "output_type": "stream",
     "text": [
      "Setting T = 4.6938775510204085, beta = 0.21304347826086956\n",
      "Equilibrating using N = 10\n",
      "Starting burnin\n",
      "Number of bunin samples used 15\n",
      "\n",
      "\n",
      "absolute mean magnetization last sample 0.16666666666666666\n"
     ]
    },
    {
     "name": "stderr",
     "output_type": "stream",
     "text": [
      "\n",
      "\n",
      "\n",
      "\n",
      "\n",
      "\n",
      "\n",
      " 48%|████▊     | 24/50 [00:08<00:08,  2.96it/s]\u001b[A\u001b[A\u001b[A\u001b[A\u001b[A\u001b[A\u001b[A"
     ]
    },
    {
     "name": "stdout",
     "output_type": "stream",
     "text": [
      "Setting T = 4.8979591836734695, beta = 0.20416666666666666\n",
      "Equilibrating using N = 10\n",
      "Starting burnin\n",
      "Number of bunin samples used 15\n",
      "\n",
      "\n",
      "absolute mean magnetization last sample 0.16666666666666666\n"
     ]
    },
    {
     "name": "stderr",
     "output_type": "stream",
     "text": [
      "\n",
      "\n",
      "\n",
      "\n",
      "\n",
      "\n",
      "\n",
      " 50%|█████     | 25/50 [00:08<00:08,  3.02it/s]\u001b[A\u001b[A\u001b[A\u001b[A\u001b[A\u001b[A\u001b[A"
     ]
    },
    {
     "name": "stdout",
     "output_type": "stream",
     "text": [
      "Setting T = 5.1020408163265305, beta = 0.196\n",
      "Equilibrating using N = 10\n",
      "Starting burnin\n",
      "Number of bunin samples used 13\n",
      "\n",
      "\n",
      "absolute mean magnetization last sample 0.16666666666666666\n"
     ]
    },
    {
     "name": "stderr",
     "output_type": "stream",
     "text": [
      "\n",
      "\n",
      "\n",
      "\n",
      "\n",
      "\n",
      "\n",
      " 52%|█████▏    | 26/50 [00:08<00:07,  3.04it/s]\u001b[A\u001b[A\u001b[A\u001b[A\u001b[A\u001b[A\u001b[A"
     ]
    },
    {
     "name": "stdout",
     "output_type": "stream",
     "text": [
      "Setting T = 5.3061224489795915, beta = 0.18846153846153849\n",
      "Equilibrating using N = 10\n",
      "Starting burnin\n",
      "Number of bunin samples used 42\n",
      "\n",
      "\n",
      "absolute mean magnetization last sample 0.3333333333333333\n"
     ]
    },
    {
     "name": "stderr",
     "output_type": "stream",
     "text": [
      "\n",
      "\n",
      "\n",
      "\n",
      "\n",
      "\n",
      "\n",
      " 54%|█████▍    | 27/50 [00:09<00:07,  3.00it/s]\u001b[A\u001b[A\u001b[A\u001b[A\u001b[A\u001b[A\u001b[A"
     ]
    },
    {
     "name": "stdout",
     "output_type": "stream",
     "text": [
      "Setting T = 5.510204081632653, beta = 0.18148148148148147\n",
      "Equilibrating using N = 10\n",
      "Starting burnin\n",
      "Number of bunin samples used 16\n",
      "\n",
      "\n",
      "absolute mean magnetization last sample 0.8333333333333334\n"
     ]
    },
    {
     "name": "stderr",
     "output_type": "stream",
     "text": [
      "\n",
      "\n",
      "\n",
      "\n",
      "\n",
      "\n",
      "\n",
      " 56%|█████▌    | 28/50 [00:09<00:07,  3.00it/s]\u001b[A\u001b[A\u001b[A\u001b[A\u001b[A\u001b[A\u001b[A"
     ]
    },
    {
     "name": "stdout",
     "output_type": "stream",
     "text": [
      "Setting T = 5.714285714285714, beta = 0.175\n",
      "Equilibrating using N = 10\n",
      "Starting burnin\n",
      "Number of bunin samples used 20\n",
      "\n",
      "\n",
      "absolute mean magnetization last sample 0.3333333333333333\n"
     ]
    },
    {
     "name": "stderr",
     "output_type": "stream",
     "text": [
      "\n",
      "\n",
      "\n",
      "\n",
      "\n",
      "\n",
      "\n",
      " 58%|█████▊    | 29/50 [00:09<00:06,  3.04it/s]\u001b[A\u001b[A\u001b[A\u001b[A\u001b[A\u001b[A\u001b[A"
     ]
    },
    {
     "name": "stdout",
     "output_type": "stream",
     "text": [
      "Setting T = 5.918367346938775, beta = 0.16896551724137931\n",
      "Equilibrating using N = 10\n",
      "Starting burnin\n",
      "Number of bunin samples used 42\n",
      "\n",
      "\n",
      "absolute mean magnetization last sample 0.5\n"
     ]
    },
    {
     "name": "stderr",
     "output_type": "stream",
     "text": [
      "\n",
      "\n",
      "\n",
      "\n",
      "\n",
      "\n",
      "\n",
      " 60%|██████    | 30/50 [00:10<00:06,  3.05it/s]\u001b[A\u001b[A\u001b[A\u001b[A\u001b[A\u001b[A\u001b[A"
     ]
    },
    {
     "name": "stdout",
     "output_type": "stream",
     "text": [
      "Setting T = 6.122448979591837, beta = 0.16333333333333333\n",
      "Equilibrating using N = 10\n",
      "Starting burnin\n",
      "Number of bunin samples used 34\n",
      "\n",
      "\n",
      "absolute mean magnetization last sample 0.6666666666666666\n"
     ]
    },
    {
     "name": "stderr",
     "output_type": "stream",
     "text": [
      "\n",
      "\n",
      "\n",
      "\n",
      "\n",
      "\n",
      "\n",
      " 62%|██████▏   | 31/50 [00:10<00:06,  3.06it/s]\u001b[A\u001b[A\u001b[A\u001b[A\u001b[A\u001b[A\u001b[A"
     ]
    },
    {
     "name": "stdout",
     "output_type": "stream",
     "text": [
      "Setting T = 6.326530612244898, beta = 0.15806451612903225\n",
      "Equilibrating using N = 10\n",
      "Starting burnin\n",
      "Number of bunin samples used 23\n",
      "\n",
      "\n",
      "absolute mean magnetization last sample 0.3333333333333333\n"
     ]
    },
    {
     "name": "stderr",
     "output_type": "stream",
     "text": [
      "\n",
      "\n",
      "\n",
      "\n",
      "\n",
      "\n",
      "\n",
      " 64%|██████▍   | 32/50 [00:10<00:05,  3.11it/s]\u001b[A\u001b[A\u001b[A\u001b[A\u001b[A\u001b[A\u001b[A"
     ]
    },
    {
     "name": "stdout",
     "output_type": "stream",
     "text": [
      "Setting T = 6.530612244897959, beta = 0.15312499999999998\n",
      "Equilibrating using N = 10\n",
      "Starting burnin\n",
      "Number of bunin samples used 19\n",
      "\n",
      "\n",
      "absolute mean magnetization last sample 0.6666666666666666\n"
     ]
    },
    {
     "name": "stderr",
     "output_type": "stream",
     "text": [
      "\n",
      "\n",
      "\n",
      "\n",
      "\n",
      "\n",
      "\n",
      " 66%|██████▌   | 33/50 [00:11<00:05,  3.13it/s]\u001b[A\u001b[A\u001b[A\u001b[A\u001b[A\u001b[A\u001b[A"
     ]
    },
    {
     "name": "stdout",
     "output_type": "stream",
     "text": [
      "Setting T = 6.73469387755102, beta = 0.1484848484848485\n",
      "Equilibrating using N = 10\n",
      "Starting burnin\n",
      "Number of bunin samples used 15\n",
      "\n",
      "\n",
      "absolute mean magnetization last sample 0.16666666666666666\n"
     ]
    },
    {
     "name": "stderr",
     "output_type": "stream",
     "text": [
      "\n",
      "\n",
      "\n",
      "\n",
      "\n",
      "\n",
      "\n",
      " 68%|██████▊   | 34/50 [00:11<00:05,  3.16it/s]\u001b[A\u001b[A\u001b[A\u001b[A\u001b[A\u001b[A\u001b[A"
     ]
    },
    {
     "name": "stdout",
     "output_type": "stream",
     "text": [
      "Setting T = 6.938775510204081, beta = 0.14411764705882354\n",
      "Equilibrating using N = 10\n",
      "Starting burnin\n",
      "Number of bunin samples used 24\n",
      "\n",
      "\n",
      "absolute mean magnetization last sample 0.3333333333333333\n"
     ]
    },
    {
     "name": "stderr",
     "output_type": "stream",
     "text": [
      "\n",
      "\n",
      "\n",
      "\n",
      "\n",
      "\n",
      "\n",
      " 70%|███████   | 35/50 [00:11<00:04,  3.16it/s]\u001b[A\u001b[A\u001b[A\u001b[A\u001b[A\u001b[A\u001b[A"
     ]
    },
    {
     "name": "stdout",
     "output_type": "stream",
     "text": [
      "Setting T = 7.142857142857143, beta = 0.13999999999999999\n",
      "Equilibrating using N = 10\n",
      "Starting burnin\n",
      "Number of bunin samples used 13\n",
      "\n",
      "\n",
      "absolute mean magnetization last sample 0.6666666666666666\n"
     ]
    },
    {
     "name": "stderr",
     "output_type": "stream",
     "text": [
      "\n",
      "\n",
      "\n",
      "\n",
      "\n",
      "\n",
      "\n",
      " 72%|███████▏  | 36/50 [00:12<00:04,  3.18it/s]\u001b[A\u001b[A\u001b[A\u001b[A\u001b[A\u001b[A\u001b[A"
     ]
    },
    {
     "name": "stdout",
     "output_type": "stream",
     "text": [
      "Setting T = 7.346938775510204, beta = 0.1361111111111111\n",
      "Equilibrating using N = 10\n",
      "Starting burnin\n",
      "Number of bunin samples used 32\n",
      "\n",
      "\n",
      "absolute mean magnetization last sample 0.16666666666666666\n"
     ]
    },
    {
     "name": "stderr",
     "output_type": "stream",
     "text": [
      "\n",
      "\n",
      "\n",
      "\n",
      "\n",
      "\n",
      "\n",
      " 74%|███████▍  | 37/50 [00:12<00:04,  3.17it/s]\u001b[A\u001b[A\u001b[A\u001b[A\u001b[A\u001b[A\u001b[A"
     ]
    },
    {
     "name": "stdout",
     "output_type": "stream",
     "text": [
      "Setting T = 7.551020408163265, beta = 0.13243243243243244\n",
      "Equilibrating using N = 10\n",
      "Starting burnin\n",
      "Number of bunin samples used 22\n",
      "\n",
      "\n",
      "absolute mean magnetization last sample 0.3333333333333333\n"
     ]
    },
    {
     "name": "stderr",
     "output_type": "stream",
     "text": [
      "\n",
      "\n",
      "\n",
      "\n",
      "\n",
      "\n",
      "\n",
      " 76%|███████▌  | 38/50 [00:12<00:03,  3.17it/s]\u001b[A\u001b[A\u001b[A\u001b[A\u001b[A\u001b[A\u001b[A"
     ]
    },
    {
     "name": "stdout",
     "output_type": "stream",
     "text": [
      "Setting T = 7.755102040816327, beta = 0.12894736842105262\n",
      "Equilibrating using N = 10\n",
      "Starting burnin\n",
      "Number of bunin samples used 13\n",
      "\n",
      "\n",
      "absolute mean magnetization last sample 0.0\n"
     ]
    },
    {
     "name": "stderr",
     "output_type": "stream",
     "text": [
      "\n",
      "\n",
      "\n",
      "\n",
      "\n",
      "\n",
      "\n",
      " 78%|███████▊  | 39/50 [00:12<00:03,  3.19it/s]\u001b[A\u001b[A\u001b[A\u001b[A\u001b[A\u001b[A\u001b[A"
     ]
    },
    {
     "name": "stdout",
     "output_type": "stream",
     "text": [
      "Setting T = 7.959183673469388, beta = 0.12564102564102564\n",
      "Equilibrating using N = 10\n",
      "Starting burnin\n",
      "Number of bunin samples used 31\n",
      "\n",
      "\n",
      "absolute mean magnetization last sample 0.16666666666666666\n"
     ]
    },
    {
     "name": "stderr",
     "output_type": "stream",
     "text": [
      "\n",
      "\n",
      "\n",
      "\n",
      "\n",
      "\n",
      "\n",
      " 80%|████████  | 40/50 [00:13<00:03,  3.17it/s]\u001b[A\u001b[A\u001b[A\u001b[A\u001b[A\u001b[A\u001b[A"
     ]
    },
    {
     "name": "stdout",
     "output_type": "stream",
     "text": [
      "Setting T = 8.16326530612245, beta = 0.1225\n",
      "Equilibrating using N = 10\n",
      "Starting burnin\n",
      "Number of bunin samples used 38\n",
      "\n",
      "\n",
      "absolute mean magnetization last sample 0.5\n"
     ]
    },
    {
     "name": "stderr",
     "output_type": "stream",
     "text": [
      "\n",
      "\n",
      "\n",
      "\n",
      "\n",
      "\n",
      "\n",
      " 82%|████████▏ | 41/50 [00:13<00:02,  3.13it/s]\u001b[A\u001b[A\u001b[A\u001b[A\u001b[A\u001b[A\u001b[A"
     ]
    },
    {
     "name": "stdout",
     "output_type": "stream",
     "text": [
      "Setting T = 8.36734693877551, beta = 0.11951219512195121\n",
      "Equilibrating using N = 10\n",
      "Starting burnin\n",
      "Number of bunin samples used 31\n",
      "\n",
      "\n",
      "absolute mean magnetization last sample 0.0\n"
     ]
    },
    {
     "name": "stderr",
     "output_type": "stream",
     "text": [
      "\n",
      "\n",
      "\n",
      "\n",
      "\n",
      "\n",
      "\n",
      " 84%|████████▍ | 42/50 [00:13<00:02,  3.13it/s]\u001b[A\u001b[A\u001b[A\u001b[A\u001b[A\u001b[A\u001b[A"
     ]
    },
    {
     "name": "stdout",
     "output_type": "stream",
     "text": [
      "Setting T = 8.571428571428571, beta = 0.11666666666666667\n",
      "Equilibrating using N = 10\n",
      "Starting burnin\n",
      "Number of bunin samples used 28\n",
      "\n",
      "\n",
      "absolute mean magnetization last sample 0.16666666666666666\n"
     ]
    },
    {
     "name": "stderr",
     "output_type": "stream",
     "text": [
      "\n",
      "\n",
      "\n",
      "\n",
      "\n",
      "\n",
      "\n",
      " 86%|████████▌ | 43/50 [00:14<00:02,  3.13it/s]\u001b[A\u001b[A\u001b[A\u001b[A\u001b[A\u001b[A\u001b[A"
     ]
    },
    {
     "name": "stdout",
     "output_type": "stream",
     "text": [
      "Setting T = 8.775510204081632, beta = 0.11395348837209303\n",
      "Equilibrating using N = 10\n",
      "Starting burnin\n",
      "Number of bunin samples used 20\n",
      "\n",
      "\n",
      "absolute mean magnetization last sample 0.3333333333333333\n"
     ]
    },
    {
     "name": "stderr",
     "output_type": "stream",
     "text": [
      "\n",
      "\n",
      "\n",
      "\n",
      "\n",
      "\n",
      "\n",
      " 88%|████████▊ | 44/50 [00:14<00:01,  3.15it/s]\u001b[A\u001b[A\u001b[A\u001b[A\u001b[A\u001b[A\u001b[A"
     ]
    },
    {
     "name": "stdout",
     "output_type": "stream",
     "text": [
      "Setting T = 8.979591836734695, beta = 0.11136363636363635\n",
      "Equilibrating using N = 10\n",
      "Starting burnin\n",
      "Number of bunin samples used 20\n",
      "\n",
      "\n",
      "absolute mean magnetization last sample 0.5\n"
     ]
    },
    {
     "name": "stderr",
     "output_type": "stream",
     "text": [
      "\n",
      "\n",
      "\n",
      "\n",
      "\n",
      "\n",
      "\n",
      " 90%|█████████ | 45/50 [00:14<00:01,  3.17it/s]\u001b[A\u001b[A\u001b[A\u001b[A\u001b[A\u001b[A\u001b[A"
     ]
    },
    {
     "name": "stdout",
     "output_type": "stream",
     "text": [
      "Setting T = 9.183673469387756, beta = 0.10888888888888888\n",
      "Equilibrating using N = 10\n",
      "Starting burnin\n",
      "Number of bunin samples used 12\n",
      "\n",
      "\n",
      "absolute mean magnetization last sample 0.3333333333333333\n"
     ]
    },
    {
     "name": "stderr",
     "output_type": "stream",
     "text": [
      "\n",
      "\n",
      "\n",
      "\n",
      "\n",
      "\n",
      "\n",
      " 92%|█████████▏| 46/50 [00:15<00:01,  3.18it/s]\u001b[A\u001b[A\u001b[A\u001b[A\u001b[A\u001b[A\u001b[A"
     ]
    },
    {
     "name": "stdout",
     "output_type": "stream",
     "text": [
      "Setting T = 9.387755102040817, beta = 0.10652173913043478\n",
      "Equilibrating using N = 10\n",
      "Starting burnin\n",
      "Number of bunin samples used 28\n",
      "\n",
      "\n",
      "absolute mean magnetization last sample 0.5\n"
     ]
    },
    {
     "name": "stderr",
     "output_type": "stream",
     "text": [
      "\n",
      "\n",
      "\n",
      "\n",
      "\n",
      "\n",
      "\n",
      " 94%|█████████▍| 47/50 [00:15<00:00,  3.18it/s]\u001b[A\u001b[A\u001b[A\u001b[A\u001b[A\u001b[A\u001b[A"
     ]
    },
    {
     "name": "stdout",
     "output_type": "stream",
     "text": [
      "Setting T = 9.591836734693878, beta = 0.10425531914893617\n",
      "Equilibrating using N = 10\n",
      "Starting burnin\n",
      "Number of bunin samples used 16\n",
      "\n",
      "\n",
      "absolute mean magnetization last sample 0.5\n"
     ]
    },
    {
     "name": "stderr",
     "output_type": "stream",
     "text": [
      "\n",
      "\n",
      "\n",
      "\n",
      "\n",
      "\n",
      "\n",
      " 96%|█████████▌| 48/50 [00:15<00:00,  3.19it/s]\u001b[A\u001b[A\u001b[A\u001b[A\u001b[A\u001b[A\u001b[A"
     ]
    },
    {
     "name": "stdout",
     "output_type": "stream",
     "text": [
      "Setting T = 9.795918367346939, beta = 0.10208333333333333\n",
      "Equilibrating using N = 10\n",
      "Starting burnin\n",
      "Number of bunin samples used 23\n",
      "\n",
      "\n",
      "absolute mean magnetization last sample 0.5\n"
     ]
    },
    {
     "name": "stderr",
     "output_type": "stream",
     "text": [
      "\n",
      "\n",
      "\n",
      "\n",
      "\n",
      "\n",
      "\n",
      " 98%|█████████▊| 49/50 [00:16<00:00,  3.20it/s]\u001b[A\u001b[A\u001b[A\u001b[A\u001b[A\u001b[A\u001b[A"
     ]
    },
    {
     "name": "stdout",
     "output_type": "stream",
     "text": [
      "Setting T = 10.0, beta = 0.1\n",
      "Equilibrating using N = 10\n",
      "Starting burnin\n",
      "Number of bunin samples used 35\n",
      "\n",
      "\n",
      "absolute mean magnetization last sample 0.3333333333333333\n"
     ]
    },
    {
     "name": "stderr",
     "output_type": "stream",
     "text": [
      "\n",
      "\n",
      "\n",
      "\n",
      "\n",
      "\n",
      "\n",
      "100%|██████████| 50/50 [00:16<00:00,  3.18it/s]\u001b[A\u001b[A\u001b[A\u001b[A\u001b[A\u001b[A\u001b[A\n",
      "\n",
      "\n",
      "\n",
      "\n",
      "\n",
      "\n",
      "\u001b[A\u001b[A\u001b[A\u001b[A\u001b[A\u001b[A\u001b[A\n",
      "\n",
      "\n",
      "\n",
      "\n",
      "\n",
      "\n",
      "  0%|          | 0/1000 [00:00<?, ?it/s]\u001b[A\u001b[A\u001b[A\u001b[A\u001b[A\u001b[A\u001b[A\n",
      "\n",
      "\n",
      "\n",
      "\n",
      "\n",
      "\n",
      " 28%|██▊       | 283/1000 [00:00<00:00, 2829.09it/s]\u001b[A\u001b[A\u001b[A\u001b[A\u001b[A\u001b[A\u001b[A"
     ]
    },
    {
     "name": "stdout",
     "output_type": "stream",
     "text": [
      "Setting T = [0.], beta = inf\n",
      "Simulation parameters\n",
      " number of samples: 1000\n",
      " step size 1\n",
      " pulse : {}\n"
     ]
    },
    {
     "name": "stderr",
     "output_type": "stream",
     "text": [
      "\n",
      "\n",
      "\n",
      "\n",
      "\n",
      "\n",
      "\n",
      " 59%|█████▉    | 593/1000 [00:00<00:00, 2903.64it/s]\u001b[A\u001b[A\u001b[A\u001b[A\u001b[A\u001b[A\u001b[A\n",
      "\n",
      "\n",
      "\n",
      "\n",
      "\n",
      "\n",
      " 91%|█████████ | 910/1000 [00:00<00:00, 2977.47it/s]\u001b[A\u001b[A\u001b[A\u001b[A\u001b[A\u001b[A\u001b[A\n",
      "\n",
      "\n",
      "\n",
      "\n",
      "\n",
      "\n",
      "100%|██████████| 1000/1000 [00:00<00:00, 2967.57it/s]\u001b[A\u001b[A\u001b[A\u001b[A\u001b[A\u001b[A\u001b[A"
     ]
    },
    {
     "data": {
      "application/vnd.jupyter.widget-view+json": {
       "model_id": "3ee7d5fda3d4437fbb6dc41c6131566d",
       "version_major": 2,
       "version_minor": 0
      },
      "text/plain": [
       "HBox(children=(IntProgress(value=0, max=990), HTML(value='')))"
      ]
     },
     "metadata": {},
     "output_type": "display_data"
    },
    {
     "name": "stdout",
     "output_type": "stream",
     "text": [
      "\n",
      "unique states 1\n"
     ]
    },
    {
     "data": {
      "application/vnd.jupyter.widget-view+json": {
       "model_id": "d21e81cb693742f0b58efcc955485da9",
       "version_major": 2,
       "version_minor": 0
      },
      "text/plain": [
       "HBox(children=(IntProgress(value=0, max=1), HTML(value='')))"
      ]
     },
     "metadata": {},
     "output_type": "display_data"
    },
    {
     "name": "stderr",
     "output_type": "stream",
     "text": [
      "/home/casper/miniconda3/lib/python3.7/site-packages/ipykernel_launcher.py:72: RuntimeWarning: divide by zero encountered in log2\n",
      "/home/casper/miniconda3/lib/python3.7/site-packages/ipykernel_launcher.py:72: RuntimeWarning: invalid value encountered in multiply\n",
      "/home/casper/miniconda3/lib/python3.7/site-packages/ipykernel_launcher.py:75: RuntimeWarning: divide by zero encountered in log2\n",
      "/home/casper/miniconda3/lib/python3.7/site-packages/ipykernel_launcher.py:75: RuntimeWarning: invalid value encountered in multiply\n"
     ]
    },
    {
     "name": "stdout",
     "output_type": "stream",
     "text": [
      "\n"
     ]
    },
    {
     "data": {
      "image/png": "[encoded data removed]",
      "text/plain": [
       "<Figure size 432x288 with 1 Axes>"
      ]
     },
     "metadata": {
      "needs_background": "light"
     },
     "output_type": "display_data"
    }
   ],
   "source": [
    "from scipy import stats\n",
    "from matplotlib.pyplot import *\n",
    "from numpy import *\n",
    "import fastIsing, scipy\n",
    "import networkx as nx, IO, multiprocessing as mp\n",
    "from tqdm import tqdm_notebook as tqdm\n",
    "\n",
    "dataDir = 'Psycho' # relative path careful\n",
    "df    = IO.readCSV('{}/Graph_min1_1.csv'.format(dataDir), header = 0, index_col = 0)\n",
    "h     = IO.readCSV('{}/External_min1_1.csv'.format(dataDir), header = 0, index_col = 0)\n",
    "graph   = nx.from_pandas_adjacency(df) \n",
    "# graph = nx.random_graphs.barabasi_albert_graph(10, 3)\n",
    "# graph = nx.grid_2d_graph(2, 2, periodic = True)\n",
    "# graph  = nx.path_graph(5, nx.DiGraph())\n",
    "# graph.add_edge(0, 0)\n",
    "# graph  = nx.path_graph(3, nx.DiGraph())\n",
    "# graph  = nx.path_graph(3)\n",
    "pulse  = {}\n",
    "nudge  = 0\n",
    "target = 1\n",
    "for node in graph.nodes():\n",
    "    pulse[node] = nudge if node == target else 0\n",
    "nx.set_node_attributes(graph, pulse, 'nudges')\n",
    "temp  = 1\n",
    "model = fastIsing.Ising(graph, temp, False, mode = 'async', verbose = True, magSide = '')\n",
    "\n",
    "temps = linspace(0, 10, 50)\n",
    "temps, mag, sus = model.matchMagnetization(temps =  temps, n = 1000, burninSamples = 10)\n",
    "func = lambda x, a, b, c, d :  a / (1 + exp(b * (x - c))) + d # tanh(-a * x)* b + c\n",
    "a, b = scipy.optimize.curve_fit(func, temps, mag, maxfev = 10000)\n",
    "xx = linspace(0, max(temps))\n",
    "fig, ax = subplots();\n",
    "ax.scatter(temps,  mag)\n",
    "ax.plot(xx, func(xx, *a), 'k--')\n",
    "\n",
    "match = .7 * max(mag)\n",
    "fr  = lambda x, a, b : func(x, *a) - b\n",
    "rr  = scipy.optimize.root(fr, 0, args = (a, match))\n",
    "ax.scatter(rr.x, func(rr.x, *a), c = 'red')\n",
    "\n",
    "\n",
    "model.t = rr.x\n",
    "N =  int(1e3)\n",
    "res = model.simulate(N, verbose = True)\n",
    "n = res.shape[0]\n",
    "\n",
    "\n",
    "delta = 10\n",
    "cond  = {}\n",
    "cc    = {}\n",
    "state = {}\n",
    "\n",
    "Z   = n - delta \n",
    "jdx = 1\n",
    "\n",
    "for i in tqdm(range(delta, n - jdx)):\n",
    "    tmp = res[i - delta: i + jdx]\n",
    "    x =  tuple(res[i])\n",
    "    state[x] = state.get(x, 0) + 1 / Z\n",
    "    cond[x] = cond.get(x, zeros(tmp.shape)) +  ((tmp + 1) / 2)\n",
    "    cc[x] = cc.get(x, 0) + 1\n",
    "print(f'unique states {len(cond)}')    \n",
    "\n",
    "H  = zeros((delta + jdx, model.nNodes))\n",
    "px = zeros((delta + jdx, model.nNodes))\n",
    "\n",
    "for key, value in tqdm(cond.items()):\n",
    "    z = value / cc[key]\n",
    "    assert all(z - 1 - z) == 1\n",
    "    z[isnan(z)] = 0\n",
    "    px += value / Z\n",
    "    x = dstack((z * log2(z), (1 - z) * log2(1 - z)))\n",
    "    x = nansum(x, -1)\n",
    "    H += state[key] * x\n",
    "tmp = nansum(dstack((px * log2(px), (1 - px) * log2(1 - px))), -1)\n",
    "H  -= tmp\n",
    "\n"
   ]
  },
  {
   "cell_type": "code",
   "execution_count": 33,
   "metadata": {},
   "outputs": [
    {
     "data": {
      "image/png": "[encoded data removed]",
      "text/plain": [
       "<Figure size 432x288 with 1 Axes>"
      ]
     },
     "metadata": {
      "needs_background": "light"
     },
     "output_type": "display_data"
    },
    {
     "data": {
      "image/png": "[encoded data removed]",
      "text/plain": [
       "<Figure size 432x288 with 1 Axes>"
      ]
     },
     "metadata": {
      "needs_background": "light"
     },
     "output_type": "display_data"
    },
    {
     "data": {
      "image/png": "[encoded data removed]",
      "text/plain": [
       "<Figure size 432x288 with 1 Axes>"
      ]
     },
     "metadata": {
      "needs_background": "light"
     },
     "output_type": "display_data"
    },
    {
     "data": {
      "image/png": "[encoded data removed]",
      "text/plain": [
       "<Figure size 432x288 with 1 Axes>"
      ]
     },
     "metadata": {
      "needs_background": "light"
     },
     "output_type": "display_data"
    },
    {
     "data": {
      "image/png": "[encoded data removed]",
      "text/plain": [
       "<Figure size 432x288 with 1 Axes>"
      ]
     },
     "metadata": {
      "needs_background": "light"
     },
     "output_type": "display_data"
    },
    {
     "name": "stdout",
     "output_type": "stream",
     "text": [
      "int16\n"
     ]
    }
   ],
   "source": [
    "fig, ax = subplots(); ax.plot(H);\n",
    "fig, ax = subplots(); ax.plot(res.mean(1)) #\n",
    "fig, ax = subplots()\n",
    "for node in model.nodeIDs:\n",
    "    deg = len(model.edgeData[node])\n",
    "    ax.scatter(deg, H[-2, node], label = node)\n",
    "ax.legend()\n",
    "   \n",
    "fig, ax = subplots()\n",
    "ax.hist(list(dict(nx.degree(graph)).values()))\n",
    "setp(ax, **dict(xlabel = 'degree', ylabel = 'freq'));\n",
    "fig, ax = subplots(); ax.hist(cc.values())\n",
    "show()\n",
    "\n",
    "print(res.dtype)"
   ]
  },
  {
   "cell_type": "code",
   "execution_count": 41,
   "metadata": {},
   "outputs": [
    {
     "data": {
      "text/plain": [
       "(-4, 11)"
      ]
     },
     "execution_count": 41,
     "metadata": {},
     "output_type": "execute_result"
    },
    {
     "data": {
      "image/png": "[encoded data removed]",
      "text/plain": [
       "<Figure size 432x288 with 1 Axes>"
      ]
     },
     "metadata": {
      "needs_background": "light"
     },
     "output_type": "display_data"
    }
   ],
   "source": [
    "# showing hellinger distance over time\n",
    "colors = cm.tab20(arange(model.nNodes))\n",
    "hd = lambda x, y: linalg.norm( sqrt(x) - sqrt (y), axis = -1) / sqrt(2)\n",
    "d = zeros(H.shape)\n",
    "for key, value in cond.items():\n",
    "    x = value[..., None] / cc[key]\n",
    "    d += hd(x,  1 - x)\n",
    "d /= len(cond)\n",
    "\n",
    "\n",
    "fig, ax = subplots(); \n",
    "[ax.plot(i, color = c) for i, c in zip(d.T, colors)]\n",
    "ax.set_title('hellinger distance over time')\n",
    "ax.set_xlim(len(x) - 15, len(x))"
   ]
  },
  {
   "cell_type": "code",
   "execution_count": 42,
   "metadata": {
    "scrolled": false
   },
   "outputs": [
    {
     "name": "stdout",
     "output_type": "stream",
     "text": [
      "Optimal parameters not found: Number of calls to function has reached maxfev = 1400.\n",
      "Optimal parameters not found: Number of calls to function has reached maxfev = 1400.\n",
      "Optimal parameters not found: Number of calls to function has reached maxfev = 1400.\n"
     ]
    },
    {
     "name": "stderr",
     "output_type": "stream",
     "text": [
      "/home/casper/miniconda3/lib/python3.7/site-packages/scipy/optimize/minpack.py:794: OptimizeWarning: Covariance of the parameters could not be estimated\n",
      "  category=OptimizeWarning)\n"
     ]
    },
    {
     "name": "stdout",
     "output_type": "stream",
     "text": [
      "Optimal parameters not found: Number of calls to function has reached maxfev = 1400.\n",
      "66.66666666666666\n"
     ]
    },
    {
     "data": {
      "image/png": "[encoded data removed]",
      "text/plain": [
       "<Figure size 720x720 with 1 Axes>"
      ]
     },
     "metadata": {
      "needs_background": "light"
     },
     "output_type": "display_data"
    }
   ],
   "source": [
    "from scipy import optimize\n",
    "func = lambda x, a, b, c, d, e, f : a + b*exp(-c*x)  + d * exp(-e * (x -f))\n",
    "f2   = lambda x, a, b : func(x, *a) - b\n",
    "fig, ax = subplots(figsize = (10, 10))\n",
    "s = 0\n",
    "idt = zeros((model.nNodes, 2))\n",
    "theta = 1e-3\n",
    "\n",
    "colors = cm.tab20(arange(model.nNodes))\n",
    "for idx, y in enumerate(H.T):\n",
    "    y = y[::-1]\n",
    "    x = arange(len(y))\n",
    "    xx = linspace(0, 10, 1000)\n",
    "    try:\n",
    "        a, b = optimize.curve_fit(func, x,  y, maxfev = 1400) # fit\n",
    "        \n",
    "        \n",
    "        ax.plot(xx, func(xx, *a), '--', color = colors[idx], alpha = 1) # plot fit\n",
    "        \n",
    "        findThis = a[0] + theta\n",
    "        tmp = (tuple(a),  findThis)\n",
    "        r  = optimize.root(f2,  x0 = 0, args = tmp)\n",
    "        rr = optimize.root(f2, x0 = 0 , args = (tuple(a), 1e-4))\n",
    "        idt[idx] = (r.x, rr.x)\n",
    "        \n",
    "        ax.scatter(r.x, func(r.x, *a), color = colors[idx], s = 150, marker = '^', label = idx) # plot root 1\n",
    "        ax.scatter(rr.x, func(rr.x, *a), s = 150,  color = colors[idx], marker = 's')    \n",
    "        s += 1\n",
    "    except Exception as e : print(e)\n",
    "    ax.scatter(x, y, color = colors[idx], s = 40)\n",
    "ax.legend()\n",
    "print(s / model.nNodes * 100)\n",
    "ax.set_xlim(0,4)\n",
    "# ax.set_xlim(0, 10)\n",
    "# ax.set_ylim(0, 1)\n",
    "# ax.set_xscale('log')\n",
    "show()"
   ]
  },
  {
   "cell_type": "code",
   "execution_count": 37,
   "metadata": {
    "scrolled": false
   },
   "outputs": [
    {
     "data": {
      "image/png": "[encoded data removed]",
      "text/plain": [
       "<Figure size 432x288 with 1 Axes>"
      ]
     },
     "metadata": {
      "needs_background": "light"
     },
     "output_type": "display_data"
    },
    {
     "data": {
      "image/png": "[encoded data removed]",
      "text/plain": [
       "<Figure size 432x288 with 1 Axes>"
      ]
     },
     "metadata": {
      "needs_background": "light"
     },
     "output_type": "display_data"
    }
   ],
   "source": [
    "fig, ax = subplots()\n",
    "fig, axx = subplots()\n",
    "for node, deg in nx.degree(model.graph):\n",
    "    idx = model.mapping[node]\n",
    "    ax.scatter(deg, idt[idx, 0], c = colors[idx])\n",
    "    axx.scatter(deg, idt[idx, 1], c = colors[idx])\n",
    "# ax.set_ylim(0, -5)\n",
    "# axx.set_ylim(0, -5)\n",
    "# ax.set_yscale('log')\n",
    "\n"
   ]
  },
  {
   "cell_type": "code",
   "execution_count": 6,
   "metadata": {},
   "outputs": [
    {
     "data": {
      "text/plain": [
       "array([0, inf, 0], dtype=object)"
      ]
     },
     "execution_count": 6,
     "metadata": {},
     "output_type": "execute_result"
    }
   ],
   "source": [
    "model.nudges\n"
   ]
  }
 ],
 "metadata": {
  "kernelspec": {
   "display_name": "Python 3",
   "language": "python",
   "name": "python3"
  },
  "language_info": {
   "codemirror_mode": {
    "name": "ipython",
    "version": 3
   },
   "file_extension": ".py",
   "mimetype": "text/x-python",
   "name": "python",
   "nbconvert_exporter": "python",
   "pygments_lexer": "ipython3",
   "version": "3.7.0"
  }
 },
 "nbformat": 4,
 "nbformat_minor": 2
}
