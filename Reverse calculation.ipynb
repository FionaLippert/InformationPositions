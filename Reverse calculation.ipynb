{
 "cells": [
  {
   "cell_type": "code",
   "execution_count": null,
   "metadata": {
    "scrolled": true
   },
   "outputs": [
    {
     "name": "stdout",
     "output_type": "stream",
     "text": [
      "Warning: no weight detected; assuming standard values\n",
      "Warning: no state detected; assuming standard values\n",
      "external field not detected assuming 0\n",
      "Initialized ISING model with \n",
      "temperature: 1\n",
      "mode: async\n",
      "Equilibrating using N = 10000\n",
      "Starting burnin\n"
     ]
    },
    {
     "name": "stderr",
     "output_type": "stream",
     "text": [
      "  0%|          | 271/100000 [00:00<00:36, 2708.03it/s]"
     ]
    },
    {
     "name": "stdout",
     "output_type": "stream",
     "text": [
      "Number of bunin samples used 10002\n",
      "\n",
      "\n",
      "absolute mean magnetization last sample 1.0\n",
      "made model\n",
      "Simulation parameters\n",
      " number of samples: 100000\n",
      " step size 1\n",
      " pulse : {}\n"
     ]
    },
    {
     "name": "stderr",
     "output_type": "stream",
     "text": [
      "100%|█████████▉| 99926/100000 [00:31<00:00, 3269.66it/s]"
     ]
    },
    {
     "data": {
      "application/vnd.jupyter.widget-view+json": {
       "model_id": "608faf87687f4474a8fc079cb3f0cd1b",
       "version_major": 2,
       "version_minor": 0
      },
      "text/plain": [
       "HBox(children=(IntProgress(value=0, max=99000), HTML(value='')))"
      ]
     },
     "metadata": {},
     "output_type": "display_data"
    },
    {
     "name": "stderr",
     "output_type": "stream",
     "text": [
      "\r",
      "100%|██████████| 100000/100000 [00:50<00:00, 3269.66it/s]"
     ]
    }
   ],
   "source": [
    "from scipy import stats\n",
    "from matplotlib.pyplot import *\n",
    "from numpy import *\n",
    "import fastIsing\n",
    "import networkx as nx, IO, multiprocessing as mp\n",
    "from tqdm import tqdm_notebook as tqdm\n",
    "\n",
    "# dataDir = 'Psycho' # relative path careful\n",
    "# df    = IO.readCSV('{}/Graph_min1_1.csv'.format(dataDir), header = 0, index_col = 0)\n",
    "# h     = IO.readCSV('{}/External_min1_1.csv'.format(dataDir), header = 0, index_col = 0)\n",
    "# graph   = nx.from_pandas_adjacency(df) \n",
    "graph = nx.random_graphs.barabasi_albert_graph(30, 10)\n",
    "# graph = nx.grid_2d_graph(2, 2, periodic = True)\n",
    "# graph  = nx.path_graph(5, nx.DiGraph())\n",
    "# graph.add_edge(0, 0)\n",
    "# graph = nx.path_graph(3)\n",
    "temp  = 1\n",
    "model = fastIsing.Ising(graph, temp, True, mode = 'async', verbose = True)\n",
    "print('made model')\n",
    "N =  int(1e5)\n",
    "res = model.simulate(N, verbose = True)\n",
    "n = res.shape[0]\n",
    "delta = 1000\n",
    "cond  = {}\n",
    "cc    = {}\n",
    "state = {}\n",
    "\n",
    "Z   = n - delta \n",
    "jdx = 1\n",
    "\n",
    "for i in tqdm(range(delta, n - jdx)):\n",
    "    tmp = res[i - delta: i + jdx]\n",
    "    x =  tuple(res[i])\n",
    "    state[x] = state.get(x, 0) + 1 / Z\n",
    "    cond[x] = cond.get(x, zeros(tmp.shape)) +  ((tmp + 1) / 2)\n",
    "    cc[x] = cc.get(x, 0) + 1\n",
    "print(f'unique states {len(cond)}')    \n",
    "\n",
    "H  = zeros((delta + jdx, model.nNodes))\n",
    "px = zeros((delta + jdx, model.nNodes))\n",
    "\n",
    "for key, value in tqdm(cond.items()):\n",
    "    z = value / cc[key]\n",
    "    assert all(z - 1 - z) == 1\n",
    "    z[isnan(z)] = 0\n",
    "    px += value / Z\n",
    "    x = dstack((z * log2(z), (1 - z) * log2(1 - z)))\n",
    "    x = nansum(x, -1)\n",
    "    H += state[key] * x\n",
    "tmp = nansum(dstack((px * log2(px), (1 - px) * log2(1 - px))), -1)\n",
    "H  -= tmp\n",
    "\n"
   ]
  },
  {
   "cell_type": "code",
   "execution_count": null,
   "metadata": {},
   "outputs": [],
   "source": [
    "fig, ax = subplots(); ax.plot(H);\n",
    "fig, ax = subplots(); ax.plot(res.mean(1)) #\n",
    "fig, ax = subplots()\n",
    "for node in model.nodeIDs:\n",
    "    deg = len(model.edgeData[node])\n",
    "    ax.scatter(deg, H[-2, node])\n",
    "   \n",
    "fig, ax = subplots()\n",
    "ax.hist(list(dict(nx.degree(graph)).values()))\n",
    "setp(ax, **dict(xlabel = 'degree', ylabel = 'freq'));\n",
    "fig, ax = subplots(); ax.hist(cc.values())\n",
    "show()\n",
    "\n",
    "print(res.dtype)"
   ]
  },
  {
   "cell_type": "code",
   "execution_count": 12,
   "metadata": {},
   "outputs": [
    {
     "data": {
      "text/plain": [
       "Text(0.5,1,'hellinger distance over time')"
      ]
     },
     "execution_count": 12,
     "metadata": {},
     "output_type": "execute_result"
    },
    {
     "data": {
      "image/png": "[encoded data removed]",
      "text/plain": [
       "<Figure size 432x288 with 1 Axes>"
      ]
     },
     "metadata": {},
     "output_type": "display_data"
    }
   ],
   "source": [
    "# showing hellinger distance over time\n",
    "hd = lambda x, y: linalg.norm( sqrt(x) - sqrt (y), axis = -1) / sqrt(2)\n",
    "d = zeros(H.shape)\n",
    "for key, value in cond.items():\n",
    "    x = value[..., None] / cc[key]\n",
    "    d += hd(x,  1 - x)\n",
    "d /= len(cond)\n",
    "\n",
    "fig, ax = subplots(); ax.plot(d, '-.')\n",
    "ax.set_title('hellinger distance over time')"
   ]
  },
  {
   "cell_type": "code",
   "execution_count": 25,
   "metadata": {
    "scrolled": false
   },
   "outputs": [
    {
     "name": "stdout",
     "output_type": "stream",
     "text": [
      "Optimal parameters not found: Number of calls to function has reached maxfev = 1400.\n",
      "Optimal parameters not found: Number of calls to function has reached maxfev = 1400.\n",
      "Optimal parameters not found: Number of calls to function has reached maxfev = 1400.\n"
     ]
    },
    {
     "name": "stderr",
     "output_type": "stream",
     "text": [
      "/home/casper/miniconda3/lib/python3.6/site-packages/scipy/optimize/minpack.py:794: OptimizeWarning: Covariance of the parameters could not be estimated\n",
      "  category=OptimizeWarning)\n"
     ]
    },
    {
     "name": "stdout",
     "output_type": "stream",
     "text": [
      "Optimal parameters not found: Number of calls to function has reached maxfev = 1400.\n",
      "Optimal parameters not found: Number of calls to function has reached maxfev = 1400.\n",
      "Optimal parameters not found: Number of calls to function has reached maxfev = 1400.\n",
      "Optimal parameters not found: Number of calls to function has reached maxfev = 1400.\n",
      "Optimal parameters not found: Number of calls to function has reached maxfev = 1400.\n",
      "Optimal parameters not found: Number of calls to function has reached maxfev = 1400.\n",
      "Optimal parameters not found: Number of calls to function has reached maxfev = 1400.\n",
      "Optimal parameters not found: Number of calls to function has reached maxfev = 1400.\n",
      "Optimal parameters not found: Number of calls to function has reached maxfev = 1400.\n",
      "Optimal parameters not found: Number of calls to function has reached maxfev = 1400.\n",
      "Optimal parameters not found: Number of calls to function has reached maxfev = 1400.\n",
      "Optimal parameters not found: Number of calls to function has reached maxfev = 1400.\n",
      "Optimal parameters not found: Number of calls to function has reached maxfev = 1400.\n",
      "Optimal parameters not found: Number of calls to function has reached maxfev = 1400.\n",
      "43.333333333333336\n"
     ]
    },
    {
     "data": {
      "image/png": "[encoded data removed]",
      "text/plain": [
       "<Figure size 720x720 with 1 Axes>"
      ]
     },
     "metadata": {},
     "output_type": "display_data"
    }
   ],
   "source": [
    "from scipy import optimize\n",
    "func = lambda x, a, b, c, d, e, f : a * exp(-b * x)   + c * exp(-d * x) #+ e * exp(- f * x)\n",
    "f2   = lambda x, a, b : func(x, *a) - b\n",
    "fig, ax = subplots(figsize = (10, 10))\n",
    "s = 0\n",
    "idt = zeros((model.nNodes, 2))\n",
    "for idx, y in enumerate(H.T):\n",
    "    y = y[::-1]\n",
    "    x = arange(len(y))\n",
    "    xx = linspace(0, 100)\n",
    "    try:\n",
    "        a, b = optimize.curve_fit(func, x,  y, maxfev = 1400)\n",
    "        ax.plot(xx, func(xx, *a), '--', alpha = 1)\n",
    "        tmp = (tuple(a),  .5 * y[0])\n",
    "        r  = optimize.root(f2,  x0 = 0, args = tmp)\n",
    "        rr = optimize.root(f2, x0 = 0 , args = (tuple(a), 1e-4))\n",
    "        idt[idx] = (r.x, rr.x)\n",
    "        ax.scatter(r.x, func(r.x, *a), s = 150, marker = '^', label = idx)\n",
    "        ax.scatter(rr.x, func(rr.x, *a), s = 150, marker = 's', label = idx)\n",
    "        s += 1\n",
    "    except Exception as e : print(e)\n",
    "    ax.scatter(x, y, s = 40)\n",
    "ax.legend()\n",
    "print(s / model.nNodes * 100)\n",
    "# ax.set_xlim(-5, 1)\n",
    "# ax.set_xlim(0, 10)\n",
    "# ax.set_ylim(0, 1)\n",
    "# ax.set_xscale('log')\n",
    "show()"
   ]
  },
  {
   "cell_type": "code",
   "execution_count": 5,
   "metadata": {
    "scrolled": false
   },
   "outputs": [
    {
     "data": {
      "image/png": "[encoded data removed]",
      "text/plain": [
       "<Figure size 432x288 with 1 Axes>"
      ]
     },
     "metadata": {},
     "output_type": "display_data"
    },
    {
     "data": {
      "image/png": "[encoded data removed]",
      "text/plain": [
       "<Figure size 432x288 with 1 Axes>"
      ]
     },
     "metadata": {},
     "output_type": "display_data"
    }
   ],
   "source": [
    "fig, ax = subplots()\n",
    "fig, axx = subplots()\n",
    "for node, deg in nx.degree(model.graph):\n",
    "    idx = model.rmapping[node]\n",
    "    ax.scatter(deg, idt[idx, 0])\n",
    "    axx.scatter(deg, idt[idx, 1])\n",
    "# ax.set_ylim(0, -5)\n",
    "# axx.set_ylim(0, -5)\n",
    "ax.set_yscale('log')\n",
    "\n"
   ]
  },
  {
   "cell_type": "code",
   "execution_count": null,
   "metadata": {},
   "outputs": [],
   "source": []
  }
 ],
 "metadata": {
  "kernelspec": {
   "display_name": "Python 3",
   "language": "python",
   "name": "python3"
  },
  "language_info": {
   "codemirror_mode": {
    "name": "ipython",
    "version": 3
   },
   "file_extension": ".py",
   "mimetype": "text/x-python",
   "name": "python",
   "nbconvert_exporter": "python",
   "pygments_lexer": "ipython3",
   "version": "3.6.6"
  }
 },
 "nbformat": 4,
 "nbformat_minor": 2
}
